{
 "cells": [
  {
   "cell_type": "markdown",
   "metadata": {},
   "source": [
    "## Socialcops Challenge"
   ]
  },
  {
   "cell_type": "markdown",
   "metadata": {},
   "source": [
    "#### Working with Monthly_data_cmo dataset."
   ]
  },
  {
   "cell_type": "markdown",
   "metadata": {},
   "source": [
    "#### 1. Import required packages"
   ]
  },
  {
   "cell_type": "code",
   "execution_count": 1,
   "metadata": {
    "collapsed": true
   },
   "outputs": [],
   "source": [
    "%matplotlib inline\n",
    "%config InlineBackend.figure_format='retina'\n",
    "\n",
    "from __future__ import absolute_import, division, print_function\n",
    "\n",
    "# Data wrangling\n",
    "import pandas as pd\n",
    "import numpy as np\n",
    "\n",
    "\n",
    "# Display and Plotting\n",
    "import matplotlib.pyplot as plt\n",
    "import seaborn as sns\n",
    "\n",
    "import os\n",
    "\n",
    "# pandas\n",
    "pd.set_option('display.float_format', lambda x: '%.5f' % x) \n",
    "pd.set_option('display.max_columns', 100)\n",
    "pd.set_option('display.max_rows', 100)\n",
    "\n",
    "# seaborn plotting style\n",
    "sns.set(style = 'ticks', context = 'poster')\n",
    "sns.set(rc={'figure.figsize':(10,6)})"
   ]
  },
  {
   "cell_type": "code",
   "execution_count": 2,
   "metadata": {
    "collapsed": true
   },
   "outputs": [],
   "source": [
    "# Print version of modules\n",
    "def version(package_name: str, import_as):\n",
    "    return (\"{} version: {}\".format(package_name, import_as.__version__))"
   ]
  },
  {
   "cell_type": "code",
   "execution_count": 3,
   "metadata": {},
   "outputs": [
    {
     "name": "stdout",
     "output_type": "stream",
     "text": [
      "Pandas version: 0.23.4\n",
      "Numpy version: 1.15.4\n",
      "Seaborn version: 0.9.0\n"
     ]
    }
   ],
   "source": [
    "print(version('Pandas', pd))\n",
    "print(version('Numpy', np))\n",
    "print(version('Seaborn', sns))"
   ]
  },
  {
   "cell_type": "markdown",
   "metadata": {},
   "source": [
    "We have successfully imported all the required packages and libraries. Now, it's time to load the dataset."
   ]
  },
  {
   "cell_type": "markdown",
   "metadata": {},
   "source": [
    "#### 2. Load the dataset"
   ]
  },
  {
   "cell_type": "markdown",
   "metadata": {},
   "source": [
    "The data we are going to work on is inside the Monthly_data_cmo csv file. You can find this file inside the 'data/' folder. This dataset contains monthly data about the quantity arrival in market, minimum price, maximum price or average price of different commodities of APMC (Agricultural produce market committee)."
   ]
  },
  {
   "cell_type": "markdown",
   "metadata": {},
   "source": [
    "The main attributes or features of the dataset are:"
   ]
  },
  {
   "cell_type": "markdown",
   "metadata": {},
   "source": [
    "* <b>APMC:</b> Agricultural Produce Market Committee\n",
    "* <b>Commodity</b>\n",
    "* <b>Year</b>\n",
    "* <b>Month</b>\n",
    "* <b>arrivals_in_qtl:</b> Quantity arrival in market (in quintal)\n",
    "* <b>min_price:</b> Minimum price charged per quintal\n",
    "* <b>max_price:</b> Maximum price charged per quintal\n",
    "* <b>modal_price:</b> Mode (Average)price charged per quintal\n",
    "* <b>date</b>\n",
    "* <b>district_name</b>\n",
    "* <b>state_name</b>"
   ]
  },
  {
   "cell_type": "code",
   "execution_count": 4,
   "metadata": {
    "collapsed": true
   },
   "outputs": [],
   "source": [
    "# Get current working directory\n",
    "def get_cwd():\n",
    "    return os.getcwd()\n",
    "\n",
    "# Read the dataset\n",
    "def read_dataset(filename):\n",
    "    data = os.path.join(get_cwd() + '\\\\data' , filename)\n",
    "    return (pd.read_csv(data))"
   ]
  },
  {
   "cell_type": "code",
   "execution_count": 5,
   "metadata": {},
   "outputs": [
    {
     "data": {
      "text/html": [
       "<div>\n",
       "<style scoped>\n",
       "    .dataframe tbody tr th:only-of-type {\n",
       "        vertical-align: middle;\n",
       "    }\n",
       "\n",
       "    .dataframe tbody tr th {\n",
       "        vertical-align: top;\n",
       "    }\n",
       "\n",
       "    .dataframe thead th {\n",
       "        text-align: right;\n",
       "    }\n",
       "</style>\n",
       "<table border=\"1\" class=\"dataframe\">\n",
       "  <thead>\n",
       "    <tr style=\"text-align: right;\">\n",
       "      <th></th>\n",
       "      <th>APMC</th>\n",
       "      <th>Commodity</th>\n",
       "      <th>Year</th>\n",
       "      <th>Month</th>\n",
       "      <th>arrivals_in_qtl</th>\n",
       "      <th>min_price</th>\n",
       "      <th>max_price</th>\n",
       "      <th>modal_price</th>\n",
       "      <th>date</th>\n",
       "      <th>district_name</th>\n",
       "      <th>state_name</th>\n",
       "    </tr>\n",
       "  </thead>\n",
       "  <tbody>\n",
       "    <tr>\n",
       "      <th>0</th>\n",
       "      <td>Ahmednagar</td>\n",
       "      <td>Bajri</td>\n",
       "      <td>2015</td>\n",
       "      <td>April</td>\n",
       "      <td>79</td>\n",
       "      <td>1406</td>\n",
       "      <td>1538</td>\n",
       "      <td>1463</td>\n",
       "      <td>2015-04</td>\n",
       "      <td>Ahmadnagar</td>\n",
       "      <td>Maharashtra</td>\n",
       "    </tr>\n",
       "    <tr>\n",
       "      <th>1</th>\n",
       "      <td>Ahmednagar</td>\n",
       "      <td>Bajri</td>\n",
       "      <td>2016</td>\n",
       "      <td>April</td>\n",
       "      <td>106</td>\n",
       "      <td>1788</td>\n",
       "      <td>1925</td>\n",
       "      <td>1875</td>\n",
       "      <td>2016-04</td>\n",
       "      <td>Ahmadnagar</td>\n",
       "      <td>Maharashtra</td>\n",
       "    </tr>\n",
       "    <tr>\n",
       "      <th>2</th>\n",
       "      <td>Ahmednagar</td>\n",
       "      <td>Wheat(Husked)</td>\n",
       "      <td>2015</td>\n",
       "      <td>April</td>\n",
       "      <td>1253</td>\n",
       "      <td>1572</td>\n",
       "      <td>1890</td>\n",
       "      <td>1731</td>\n",
       "      <td>2015-04</td>\n",
       "      <td>Ahmadnagar</td>\n",
       "      <td>Maharashtra</td>\n",
       "    </tr>\n",
       "    <tr>\n",
       "      <th>3</th>\n",
       "      <td>Ahmednagar</td>\n",
       "      <td>Wheat(Husked)</td>\n",
       "      <td>2016</td>\n",
       "      <td>April</td>\n",
       "      <td>387</td>\n",
       "      <td>1750</td>\n",
       "      <td>2220</td>\n",
       "      <td>1999</td>\n",
       "      <td>2016-04</td>\n",
       "      <td>Ahmadnagar</td>\n",
       "      <td>Maharashtra</td>\n",
       "    </tr>\n",
       "    <tr>\n",
       "      <th>4</th>\n",
       "      <td>Ahmednagar</td>\n",
       "      <td>Sorgum(Jawar)</td>\n",
       "      <td>2015</td>\n",
       "      <td>April</td>\n",
       "      <td>3825</td>\n",
       "      <td>1600</td>\n",
       "      <td>2200</td>\n",
       "      <td>1900</td>\n",
       "      <td>2015-04</td>\n",
       "      <td>Ahmadnagar</td>\n",
       "      <td>Maharashtra</td>\n",
       "    </tr>\n",
       "  </tbody>\n",
       "</table>\n",
       "</div>"
      ],
      "text/plain": [
       "         APMC      Commodity  Year  Month  arrivals_in_qtl  min_price  \\\n",
       "0  Ahmednagar          Bajri  2015  April               79       1406   \n",
       "1  Ahmednagar          Bajri  2016  April              106       1788   \n",
       "2  Ahmednagar  Wheat(Husked)  2015  April             1253       1572   \n",
       "3  Ahmednagar  Wheat(Husked)  2016  April              387       1750   \n",
       "4  Ahmednagar  Sorgum(Jawar)  2015  April             3825       1600   \n",
       "\n",
       "   max_price  modal_price     date district_name   state_name  \n",
       "0       1538         1463  2015-04    Ahmadnagar  Maharashtra  \n",
       "1       1925         1875  2016-04    Ahmadnagar  Maharashtra  \n",
       "2       1890         1731  2015-04    Ahmadnagar  Maharashtra  \n",
       "3       2220         1999  2016-04    Ahmadnagar  Maharashtra  \n",
       "4       2200         1900  2015-04    Ahmadnagar  Maharashtra  "
      ]
     },
     "execution_count": 5,
     "metadata": {},
     "output_type": "execute_result"
    }
   ],
   "source": [
    "# Look at the 'cmo_monthly' dataset\n",
    "cmo_monthly = read_dataset(\"Monthly_data_cmo.csv\")\n",
    "cmo_monthly.head()"
   ]
  },
  {
   "cell_type": "markdown",
   "metadata": {},
   "source": [
    "As, we analysied in our previous notebook <b>Monthly_data_cmo</b> version 1. that <b>state_name</b> attribute shows only <b>Maharashtra</b> as it's unique value for all the entities. So we can simply remove it from our furthur processing dataset."
   ]
  },
  {
   "cell_type": "markdown",
   "metadata": {},
   "source": [
    "#### 3. EDA"
   ]
  },
  {
   "cell_type": "markdown",
   "metadata": {},
   "source": [
    "##### 3.1 state_name"
   ]
  },
  {
   "cell_type": "code",
   "execution_count": 6,
   "metadata": {},
   "outputs": [
    {
     "data": {
      "text/html": [
       "<div>\n",
       "<style scoped>\n",
       "    .dataframe tbody tr th:only-of-type {\n",
       "        vertical-align: middle;\n",
       "    }\n",
       "\n",
       "    .dataframe tbody tr th {\n",
       "        vertical-align: top;\n",
       "    }\n",
       "\n",
       "    .dataframe thead th {\n",
       "        text-align: right;\n",
       "    }\n",
       "</style>\n",
       "<table border=\"1\" class=\"dataframe\">\n",
       "  <thead>\n",
       "    <tr style=\"text-align: right;\">\n",
       "      <th></th>\n",
       "      <th>APMC</th>\n",
       "      <th>Commodity</th>\n",
       "      <th>Year</th>\n",
       "      <th>Month</th>\n",
       "      <th>arrivals_in_qtl</th>\n",
       "      <th>min_price</th>\n",
       "      <th>max_price</th>\n",
       "      <th>modal_price</th>\n",
       "      <th>date</th>\n",
       "      <th>district_name</th>\n",
       "    </tr>\n",
       "  </thead>\n",
       "  <tbody>\n",
       "    <tr>\n",
       "      <th>0</th>\n",
       "      <td>Ahmednagar</td>\n",
       "      <td>Bajri</td>\n",
       "      <td>2015</td>\n",
       "      <td>April</td>\n",
       "      <td>79</td>\n",
       "      <td>1406</td>\n",
       "      <td>1538</td>\n",
       "      <td>1463</td>\n",
       "      <td>2015-04</td>\n",
       "      <td>Ahmadnagar</td>\n",
       "    </tr>\n",
       "    <tr>\n",
       "      <th>1</th>\n",
       "      <td>Ahmednagar</td>\n",
       "      <td>Bajri</td>\n",
       "      <td>2016</td>\n",
       "      <td>April</td>\n",
       "      <td>106</td>\n",
       "      <td>1788</td>\n",
       "      <td>1925</td>\n",
       "      <td>1875</td>\n",
       "      <td>2016-04</td>\n",
       "      <td>Ahmadnagar</td>\n",
       "    </tr>\n",
       "    <tr>\n",
       "      <th>2</th>\n",
       "      <td>Ahmednagar</td>\n",
       "      <td>Wheat(Husked)</td>\n",
       "      <td>2015</td>\n",
       "      <td>April</td>\n",
       "      <td>1253</td>\n",
       "      <td>1572</td>\n",
       "      <td>1890</td>\n",
       "      <td>1731</td>\n",
       "      <td>2015-04</td>\n",
       "      <td>Ahmadnagar</td>\n",
       "    </tr>\n",
       "    <tr>\n",
       "      <th>3</th>\n",
       "      <td>Ahmednagar</td>\n",
       "      <td>Wheat(Husked)</td>\n",
       "      <td>2016</td>\n",
       "      <td>April</td>\n",
       "      <td>387</td>\n",
       "      <td>1750</td>\n",
       "      <td>2220</td>\n",
       "      <td>1999</td>\n",
       "      <td>2016-04</td>\n",
       "      <td>Ahmadnagar</td>\n",
       "    </tr>\n",
       "    <tr>\n",
       "      <th>4</th>\n",
       "      <td>Ahmednagar</td>\n",
       "      <td>Sorgum(Jawar)</td>\n",
       "      <td>2015</td>\n",
       "      <td>April</td>\n",
       "      <td>3825</td>\n",
       "      <td>1600</td>\n",
       "      <td>2200</td>\n",
       "      <td>1900</td>\n",
       "      <td>2015-04</td>\n",
       "      <td>Ahmadnagar</td>\n",
       "    </tr>\n",
       "  </tbody>\n",
       "</table>\n",
       "</div>"
      ],
      "text/plain": [
       "         APMC      Commodity  Year  Month  arrivals_in_qtl  min_price  \\\n",
       "0  Ahmednagar          Bajri  2015  April               79       1406   \n",
       "1  Ahmednagar          Bajri  2016  April              106       1788   \n",
       "2  Ahmednagar  Wheat(Husked)  2015  April             1253       1572   \n",
       "3  Ahmednagar  Wheat(Husked)  2016  April              387       1750   \n",
       "4  Ahmednagar  Sorgum(Jawar)  2015  April             3825       1600   \n",
       "\n",
       "   max_price  modal_price     date district_name  \n",
       "0       1538         1463  2015-04    Ahmadnagar  \n",
       "1       1925         1875  2016-04    Ahmadnagar  \n",
       "2       1890         1731  2015-04    Ahmadnagar  \n",
       "3       2220         1999  2016-04    Ahmadnagar  \n",
       "4       2200         1900  2015-04    Ahmadnagar  "
      ]
     },
     "execution_count": 6,
     "metadata": {},
     "output_type": "execute_result"
    }
   ],
   "source": [
    "# Remove state_name attribute\n",
    "state_name = cmo_monthly.pop('state_name')\n",
    "cmo_monthly.head()"
   ]
  },
  {
   "cell_type": "markdown",
   "metadata": {},
   "source": [
    "##### 3.2 district_name"
   ]
  },
  {
   "cell_type": "markdown",
   "metadata": {},
   "source": [
    "Now as we know from our past analysis that <b>district_name</b> is having total <b>33 unique</b> categories. And among them the <b>Top 5 categories that appears in most number of entities are:</b>"
   ]
  },
  {
   "cell_type": "markdown",
   "metadata": {},
   "source": [
    "* <b>Pune: </b>appeared in 6366 number of entities.\n",
    "* <b>Ahmadnagar: </b>appeared in 4638 number of entities.\n",
    "* <b>Nagpur: </b>appeared in 4527 number of entities.\n",
    "* <b>Solapur: </b>appeared in 4524 number of entities.\n",
    "* <b>Nasik: </b>appeared in 3620 number of entities."
   ]
  },
  {
   "cell_type": "markdown",
   "metadata": {},
   "source": [
    "Let's list down the total 33 unique categories:"
   ]
  },
  {
   "cell_type": "code",
   "execution_count": 7,
   "metadata": {},
   "outputs": [
    {
     "data": {
      "text/plain": [
       "Pune          6366\n",
       "Ahmadnagar    4638\n",
       "Nagpur        4527\n",
       "Solapur       4524\n",
       "Nasik         3620\n",
       "Satara        2771\n",
       "Buldhana      2669\n",
       "Amaravathi    2590\n",
       "Jalgaon       2579\n",
       "Aurangabad    2312\n",
       "Beed          1916\n",
       "Thane         1854\n",
       "Osmanabad     1737\n",
       "Kolhapur      1704\n",
       "Mumbai        1656\n",
       "Jalna         1489\n",
       "Yewatmal      1455\n",
       "Latur         1446\n",
       "Dhule         1328\n",
       "Parbhani      1312\n",
       "Chandrapur    1215\n",
       "Sangli        1131\n",
       "Akola         1084\n",
       "Nanded        1042\n",
       "Nandurbar     1001\n",
       "Wasim          964\n",
       "Hingoli        776\n",
       "Wardha         630\n",
       "Raigad         610\n",
       "Bhandara       540\n",
       "Ratnagiri      457\n",
       "Gadchiroli     360\n",
       "Gondiya        126\n",
       "Name: district_name, dtype: int64"
      ]
     },
     "execution_count": 7,
     "metadata": {},
     "output_type": "execute_result"
    }
   ],
   "source": [
    "# List down each of them with number of occurances of different categories\n",
    "cmo_monthly['district_name'].value_counts().sort_values(ascending = False)"
   ]
  },
  {
   "cell_type": "markdown",
   "metadata": {},
   "source": [
    "##### 3.3 date"
   ]
  },
  {
   "cell_type": "markdown",
   "metadata": {},
   "source": [
    "Now, let's convert our <b>date</b> attribute into proper <b>YYYY-MM-DD</b> format."
   ]
  },
  {
   "cell_type": "code",
   "execution_count": 8,
   "metadata": {},
   "outputs": [
    {
     "data": {
      "text/html": [
       "<div>\n",
       "<style scoped>\n",
       "    .dataframe tbody tr th:only-of-type {\n",
       "        vertical-align: middle;\n",
       "    }\n",
       "\n",
       "    .dataframe tbody tr th {\n",
       "        vertical-align: top;\n",
       "    }\n",
       "\n",
       "    .dataframe thead th {\n",
       "        text-align: right;\n",
       "    }\n",
       "</style>\n",
       "<table border=\"1\" class=\"dataframe\">\n",
       "  <thead>\n",
       "    <tr style=\"text-align: right;\">\n",
       "      <th></th>\n",
       "      <th>APMC</th>\n",
       "      <th>Commodity</th>\n",
       "      <th>Year</th>\n",
       "      <th>Month</th>\n",
       "      <th>arrivals_in_qtl</th>\n",
       "      <th>min_price</th>\n",
       "      <th>max_price</th>\n",
       "      <th>modal_price</th>\n",
       "      <th>date</th>\n",
       "      <th>district_name</th>\n",
       "    </tr>\n",
       "  </thead>\n",
       "  <tbody>\n",
       "    <tr>\n",
       "      <th>0</th>\n",
       "      <td>Ahmednagar</td>\n",
       "      <td>Bajri</td>\n",
       "      <td>2015</td>\n",
       "      <td>April</td>\n",
       "      <td>79</td>\n",
       "      <td>1406</td>\n",
       "      <td>1538</td>\n",
       "      <td>1463</td>\n",
       "      <td>2015-04-01</td>\n",
       "      <td>Ahmadnagar</td>\n",
       "    </tr>\n",
       "    <tr>\n",
       "      <th>1</th>\n",
       "      <td>Ahmednagar</td>\n",
       "      <td>Bajri</td>\n",
       "      <td>2016</td>\n",
       "      <td>April</td>\n",
       "      <td>106</td>\n",
       "      <td>1788</td>\n",
       "      <td>1925</td>\n",
       "      <td>1875</td>\n",
       "      <td>2016-04-01</td>\n",
       "      <td>Ahmadnagar</td>\n",
       "    </tr>\n",
       "    <tr>\n",
       "      <th>2</th>\n",
       "      <td>Ahmednagar</td>\n",
       "      <td>Wheat(Husked)</td>\n",
       "      <td>2015</td>\n",
       "      <td>April</td>\n",
       "      <td>1253</td>\n",
       "      <td>1572</td>\n",
       "      <td>1890</td>\n",
       "      <td>1731</td>\n",
       "      <td>2015-04-01</td>\n",
       "      <td>Ahmadnagar</td>\n",
       "    </tr>\n",
       "    <tr>\n",
       "      <th>3</th>\n",
       "      <td>Ahmednagar</td>\n",
       "      <td>Wheat(Husked)</td>\n",
       "      <td>2016</td>\n",
       "      <td>April</td>\n",
       "      <td>387</td>\n",
       "      <td>1750</td>\n",
       "      <td>2220</td>\n",
       "      <td>1999</td>\n",
       "      <td>2016-04-01</td>\n",
       "      <td>Ahmadnagar</td>\n",
       "    </tr>\n",
       "    <tr>\n",
       "      <th>4</th>\n",
       "      <td>Ahmednagar</td>\n",
       "      <td>Sorgum(Jawar)</td>\n",
       "      <td>2015</td>\n",
       "      <td>April</td>\n",
       "      <td>3825</td>\n",
       "      <td>1600</td>\n",
       "      <td>2200</td>\n",
       "      <td>1900</td>\n",
       "      <td>2015-04-01</td>\n",
       "      <td>Ahmadnagar</td>\n",
       "    </tr>\n",
       "  </tbody>\n",
       "</table>\n",
       "</div>"
      ],
      "text/plain": [
       "         APMC      Commodity  Year  Month  arrivals_in_qtl  min_price  \\\n",
       "0  Ahmednagar          Bajri  2015  April               79       1406   \n",
       "1  Ahmednagar          Bajri  2016  April              106       1788   \n",
       "2  Ahmednagar  Wheat(Husked)  2015  April             1253       1572   \n",
       "3  Ahmednagar  Wheat(Husked)  2016  April              387       1750   \n",
       "4  Ahmednagar  Sorgum(Jawar)  2015  April             3825       1600   \n",
       "\n",
       "   max_price  modal_price       date district_name  \n",
       "0       1538         1463 2015-04-01    Ahmadnagar  \n",
       "1       1925         1875 2016-04-01    Ahmadnagar  \n",
       "2       1890         1731 2015-04-01    Ahmadnagar  \n",
       "3       2220         1999 2016-04-01    Ahmadnagar  \n",
       "4       2200         1900 2015-04-01    Ahmadnagar  "
      ]
     },
     "execution_count": 8,
     "metadata": {},
     "output_type": "execute_result"
    }
   ],
   "source": [
    "# Change date attribute to date time\n",
    "cmo_monthly['date'] = pd.to_datetime(cmo_monthly.date)\n",
    "cmo_monthly.head()"
   ]
  },
  {
   "cell_type": "markdown",
   "metadata": {},
   "source": [
    "Now we can see that the format of <b>date</b> attribute has been changed."
   ]
  },
  {
   "cell_type": "markdown",
   "metadata": {},
   "source": [
    "##### 3.4 modal_price"
   ]
  },
  {
   "cell_type": "markdown",
   "metadata": {},
   "source": [
    "Now, let's move to <b>modal_price: Mode (Average) price charged per quintal</b> attribute and analyse how the data is distributed in our dataset."
   ]
  },
  {
   "cell_type": "code",
   "execution_count": 9,
   "metadata": {},
   "outputs": [
    {
     "data": {
      "text/plain": [
       "count    62429.00000\n",
       "mean      3296.00399\n",
       "std       3607.79253\n",
       "min          0.00000\n",
       "25%       1450.00000\n",
       "50%       2425.00000\n",
       "75%       4257.00000\n",
       "max     142344.00000\n",
       "Name: modal_price, dtype: float64"
      ]
     },
     "execution_count": 9,
     "metadata": {},
     "output_type": "execute_result"
    }
   ],
   "source": [
    "# Check out modal_price\n",
    "cmo_monthly['modal_price'].describe()"
   ]
  },
  {
   "cell_type": "markdown",
   "metadata": {},
   "source": [
    "As we can see that the <b>standard deviation value is much higher that the mean value</b>. This shows that our data is widely spread. The <b>minimum value of the modal_price</b> is given 0. Let's check it out."
   ]
  },
  {
   "cell_type": "code",
   "execution_count": 10,
   "metadata": {},
   "outputs": [
    {
     "data": {
      "text/plain": [
       "204"
      ]
     },
     "execution_count": 10,
     "metadata": {},
     "output_type": "execute_result"
    }
   ],
   "source": [
    "len(cmo_monthly[cmo_monthly['modal_price'] == 0])"
   ]
  },
  {
   "cell_type": "markdown",
   "metadata": {},
   "source": [
    "The above output shows that the <b>modal_price is equal to 0 for total 204 entities.</b>"
   ]
  },
  {
   "cell_type": "code",
   "execution_count": 11,
   "metadata": {},
   "outputs": [
    {
     "data": {
      "text/html": [
       "<div>\n",
       "<style scoped>\n",
       "    .dataframe tbody tr th:only-of-type {\n",
       "        vertical-align: middle;\n",
       "    }\n",
       "\n",
       "    .dataframe tbody tr th {\n",
       "        vertical-align: top;\n",
       "    }\n",
       "\n",
       "    .dataframe thead th {\n",
       "        text-align: right;\n",
       "    }\n",
       "</style>\n",
       "<table border=\"1\" class=\"dataframe\">\n",
       "  <thead>\n",
       "    <tr style=\"text-align: right;\">\n",
       "      <th></th>\n",
       "      <th>APMC</th>\n",
       "      <th>Commodity</th>\n",
       "      <th>Year</th>\n",
       "      <th>Month</th>\n",
       "      <th>arrivals_in_qtl</th>\n",
       "      <th>min_price</th>\n",
       "      <th>max_price</th>\n",
       "      <th>modal_price</th>\n",
       "      <th>date</th>\n",
       "      <th>district_name</th>\n",
       "    </tr>\n",
       "  </thead>\n",
       "  <tbody>\n",
       "    <tr>\n",
       "      <th>34598</th>\n",
       "      <td>Chandvad</td>\n",
       "      <td>Cucumber</td>\n",
       "      <td>2016</td>\n",
       "      <td>January</td>\n",
       "      <td>1</td>\n",
       "      <td>0</td>\n",
       "      <td>2000</td>\n",
       "      <td>0</td>\n",
       "      <td>2016-01-01</td>\n",
       "      <td>Nasik</td>\n",
       "    </tr>\n",
       "    <tr>\n",
       "      <th>38760</th>\n",
       "      <td>Pathari</td>\n",
       "      <td>Gram</td>\n",
       "      <td>2015</td>\n",
       "      <td>August</td>\n",
       "      <td>2</td>\n",
       "      <td>3651</td>\n",
       "      <td>4101</td>\n",
       "      <td>0</td>\n",
       "      <td>2015-08-01</td>\n",
       "      <td>Parbhani</td>\n",
       "    </tr>\n",
       "    <tr>\n",
       "      <th>38843</th>\n",
       "      <td>Pathari</td>\n",
       "      <td>Bajri</td>\n",
       "      <td>2014</td>\n",
       "      <td>December</td>\n",
       "      <td>23</td>\n",
       "      <td>1401</td>\n",
       "      <td>1539</td>\n",
       "      <td>0</td>\n",
       "      <td>2014-12-01</td>\n",
       "      <td>Parbhani</td>\n",
       "    </tr>\n",
       "    <tr>\n",
       "      <th>38849</th>\n",
       "      <td>Pathari</td>\n",
       "      <td>Green Gram</td>\n",
       "      <td>2014</td>\n",
       "      <td>December</td>\n",
       "      <td>7</td>\n",
       "      <td>5601</td>\n",
       "      <td>6600</td>\n",
       "      <td>0</td>\n",
       "      <td>2014-12-01</td>\n",
       "      <td>Parbhani</td>\n",
       "    </tr>\n",
       "    <tr>\n",
       "      <th>39034</th>\n",
       "      <td>Pathari</td>\n",
       "      <td>Bajri</td>\n",
       "      <td>2015</td>\n",
       "      <td>January</td>\n",
       "      <td>10</td>\n",
       "      <td>1493</td>\n",
       "      <td>1588</td>\n",
       "      <td>0</td>\n",
       "      <td>2015-01-01</td>\n",
       "      <td>Parbhani</td>\n",
       "    </tr>\n",
       "  </tbody>\n",
       "</table>\n",
       "</div>"
      ],
      "text/plain": [
       "           APMC   Commodity  Year     Month  arrivals_in_qtl  min_price  \\\n",
       "34598  Chandvad    Cucumber  2016   January                1          0   \n",
       "38760   Pathari        Gram  2015    August                2       3651   \n",
       "38843   Pathari       Bajri  2014  December               23       1401   \n",
       "38849   Pathari  Green Gram  2014  December                7       5601   \n",
       "39034   Pathari       Bajri  2015   January               10       1493   \n",
       "\n",
       "       max_price  modal_price       date district_name  \n",
       "34598       2000            0 2016-01-01         Nasik  \n",
       "38760       4101            0 2015-08-01      Parbhani  \n",
       "38843       1539            0 2014-12-01      Parbhani  \n",
       "38849       6600            0 2014-12-01      Parbhani  \n",
       "39034       1588            0 2015-01-01      Parbhani  "
      ]
     },
     "execution_count": 11,
     "metadata": {},
     "output_type": "execute_result"
    }
   ],
   "source": [
    "# Let's check few of the samples\n",
    "cmo_monthly[cmo_monthly['modal_price'] == 0].head()"
   ]
  },
  {
   "cell_type": "markdown",
   "metadata": {},
   "source": [
    "We know that 'modal_price' attribute shows the average price charged per quintal. And <b>it can't be zero as price never so in negative as well as it could not be possible that our sample is having both 'min_price' and 'max_price' equals to zero.</b>"
   ]
  },
  {
   "cell_type": "markdown",
   "metadata": {},
   "source": [
    "Hence, we will simply <b>remove the samples/entities from the dataset which shows 'modal_price' value equals to zero.</b> In this way we will only keep trustful data in our dataset."
   ]
  },
  {
   "cell_type": "code",
   "execution_count": 12,
   "metadata": {
    "collapsed": true
   },
   "outputs": [],
   "source": [
    "# remove entities from the dataset where modal_price = 0\n",
    "cmo_monthly.drop(cmo_monthly[cmo_monthly.modal_price == 0].index, inplace = True)"
   ]
  },
  {
   "cell_type": "markdown",
   "metadata": {},
   "source": [
    "Successfully removed. Let's check it out."
   ]
  },
  {
   "cell_type": "code",
   "execution_count": 13,
   "metadata": {},
   "outputs": [
    {
     "data": {
      "text/plain": [
       "0"
      ]
     },
     "execution_count": 13,
     "metadata": {},
     "output_type": "execute_result"
    }
   ],
   "source": [
    "len(cmo_monthly[cmo_monthly['modal_price'] == 0])"
   ]
  },
  {
   "cell_type": "markdown",
   "metadata": {},
   "source": [
    "Now, it's verified that the samples having 'modal_price' equals to zero have been removed from the dataset."
   ]
  },
  {
   "cell_type": "markdown",
   "metadata": {},
   "source": [
    "##### 3.5 max_price and min_price"
   ]
  },
  {
   "cell_type": "markdown",
   "metadata": {},
   "source": [
    "Let's move towards <b>max_price and min_price</b> attribute."
   ]
  },
  {
   "cell_type": "markdown",
   "metadata": {},
   "source": [
    "With these attribute we can checkout the <b>difference in max_price and min_price</b>. The <b>max_price</b> attribute shows the <b>Maximum price per quintal</b> and the <b>min_price</b> attribute shows the <b>Minimum price per quintal</b>."
   ]
  },
  {
   "cell_type": "markdown",
   "metadata": {},
   "source": [
    "We know that it's not possible that the max_price is less than the min_price of any entity. But as we analysed previously it is happening in our dataset. So let's check out where it is happening and why?"
   ]
  },
  {
   "cell_type": "code",
   "execution_count": 14,
   "metadata": {
    "collapsed": true
   },
   "outputs": [],
   "source": [
    "# Calculating the difference\n",
    "def diff_price(max_price, min_price):\n",
    "    return (max_price - min_price)"
   ]
  },
  {
   "cell_type": "markdown",
   "metadata": {},
   "source": [
    "Let's create an attribute that contains the difference in price."
   ]
  },
  {
   "cell_type": "code",
   "execution_count": 15,
   "metadata": {},
   "outputs": [
    {
     "data": {
      "text/html": [
       "<div>\n",
       "<style scoped>\n",
       "    .dataframe tbody tr th:only-of-type {\n",
       "        vertical-align: middle;\n",
       "    }\n",
       "\n",
       "    .dataframe tbody tr th {\n",
       "        vertical-align: top;\n",
       "    }\n",
       "\n",
       "    .dataframe thead th {\n",
       "        text-align: right;\n",
       "    }\n",
       "</style>\n",
       "<table border=\"1\" class=\"dataframe\">\n",
       "  <thead>\n",
       "    <tr style=\"text-align: right;\">\n",
       "      <th></th>\n",
       "      <th>APMC</th>\n",
       "      <th>Commodity</th>\n",
       "      <th>Year</th>\n",
       "      <th>Month</th>\n",
       "      <th>arrivals_in_qtl</th>\n",
       "      <th>min_price</th>\n",
       "      <th>max_price</th>\n",
       "      <th>modal_price</th>\n",
       "      <th>date</th>\n",
       "      <th>district_name</th>\n",
       "      <th>diff_price</th>\n",
       "    </tr>\n",
       "  </thead>\n",
       "  <tbody>\n",
       "    <tr>\n",
       "      <th>0</th>\n",
       "      <td>Ahmednagar</td>\n",
       "      <td>Bajri</td>\n",
       "      <td>2015</td>\n",
       "      <td>April</td>\n",
       "      <td>79</td>\n",
       "      <td>1406</td>\n",
       "      <td>1538</td>\n",
       "      <td>1463</td>\n",
       "      <td>2015-04-01</td>\n",
       "      <td>Ahmadnagar</td>\n",
       "      <td>132</td>\n",
       "    </tr>\n",
       "    <tr>\n",
       "      <th>1</th>\n",
       "      <td>Ahmednagar</td>\n",
       "      <td>Bajri</td>\n",
       "      <td>2016</td>\n",
       "      <td>April</td>\n",
       "      <td>106</td>\n",
       "      <td>1788</td>\n",
       "      <td>1925</td>\n",
       "      <td>1875</td>\n",
       "      <td>2016-04-01</td>\n",
       "      <td>Ahmadnagar</td>\n",
       "      <td>137</td>\n",
       "    </tr>\n",
       "    <tr>\n",
       "      <th>2</th>\n",
       "      <td>Ahmednagar</td>\n",
       "      <td>Wheat(Husked)</td>\n",
       "      <td>2015</td>\n",
       "      <td>April</td>\n",
       "      <td>1253</td>\n",
       "      <td>1572</td>\n",
       "      <td>1890</td>\n",
       "      <td>1731</td>\n",
       "      <td>2015-04-01</td>\n",
       "      <td>Ahmadnagar</td>\n",
       "      <td>318</td>\n",
       "    </tr>\n",
       "    <tr>\n",
       "      <th>3</th>\n",
       "      <td>Ahmednagar</td>\n",
       "      <td>Wheat(Husked)</td>\n",
       "      <td>2016</td>\n",
       "      <td>April</td>\n",
       "      <td>387</td>\n",
       "      <td>1750</td>\n",
       "      <td>2220</td>\n",
       "      <td>1999</td>\n",
       "      <td>2016-04-01</td>\n",
       "      <td>Ahmadnagar</td>\n",
       "      <td>470</td>\n",
       "    </tr>\n",
       "    <tr>\n",
       "      <th>4</th>\n",
       "      <td>Ahmednagar</td>\n",
       "      <td>Sorgum(Jawar)</td>\n",
       "      <td>2015</td>\n",
       "      <td>April</td>\n",
       "      <td>3825</td>\n",
       "      <td>1600</td>\n",
       "      <td>2200</td>\n",
       "      <td>1900</td>\n",
       "      <td>2015-04-01</td>\n",
       "      <td>Ahmadnagar</td>\n",
       "      <td>600</td>\n",
       "    </tr>\n",
       "  </tbody>\n",
       "</table>\n",
       "</div>"
      ],
      "text/plain": [
       "         APMC      Commodity  Year  Month  arrivals_in_qtl  min_price  \\\n",
       "0  Ahmednagar          Bajri  2015  April               79       1406   \n",
       "1  Ahmednagar          Bajri  2016  April              106       1788   \n",
       "2  Ahmednagar  Wheat(Husked)  2015  April             1253       1572   \n",
       "3  Ahmednagar  Wheat(Husked)  2016  April              387       1750   \n",
       "4  Ahmednagar  Sorgum(Jawar)  2015  April             3825       1600   \n",
       "\n",
       "   max_price  modal_price       date district_name  diff_price  \n",
       "0       1538         1463 2015-04-01    Ahmadnagar         132  \n",
       "1       1925         1875 2016-04-01    Ahmadnagar         137  \n",
       "2       1890         1731 2015-04-01    Ahmadnagar         318  \n",
       "3       2220         1999 2016-04-01    Ahmadnagar         470  \n",
       "4       2200         1900 2015-04-01    Ahmadnagar         600  "
      ]
     },
     "execution_count": 15,
     "metadata": {},
     "output_type": "execute_result"
    }
   ],
   "source": [
    "cmo_monthly['diff_price'] = diff_price(cmo_monthly.max_price, cmo_monthly.min_price)\n",
    "cmo_monthly.head()"
   ]
  },
  {
   "cell_type": "code",
   "execution_count": 17,
   "metadata": {},
   "outputs": [
    {
     "data": {
      "text/plain": [
       "count      62225.00000\n",
       "mean         741.15839\n",
       "std        14473.78495\n",
       "min     -3149973.00000\n",
       "25%          148.00000\n",
       "50%          384.00000\n",
       "75%          867.00000\n",
       "max      1596090.00000\n",
       "Name: diff_price, dtype: float64"
      ]
     },
     "execution_count": 17,
     "metadata": {},
     "output_type": "execute_result"
    }
   ],
   "source": [
    "# check out diff_price\n",
    "cmo_monthly['diff_price'].describe()"
   ]
  },
  {
   "cell_type": "markdown",
   "metadata": {},
   "source": [
    "As we can see from our above output that the standard deviation is having much higher value than the mean. This shows our that our data is widely distributed."
   ]
  },
  {
   "cell_type": "markdown",
   "metadata": {},
   "source": [
    "We can also see that the minimum value is negative, which can't be possible. Let's check out all the entities which are having the values less than zero."
   ]
  },
  {
   "cell_type": "code",
   "execution_count": 18,
   "metadata": {},
   "outputs": [
    {
     "data": {
      "text/plain": [
       "269"
      ]
     },
     "execution_count": 18,
     "metadata": {},
     "output_type": "execute_result"
    }
   ],
   "source": [
    "# diff_price less than zero\n",
    "len(cmo_monthly[cmo_monthly['diff_price'] < 0])"
   ]
  },
  {
   "cell_type": "markdown",
   "metadata": {},
   "source": [
    "The above output shows that there are total <b>296 entities in our dataset which are biased based on diff_price attribute</b>. As in 296 entities the max_price is less than min_price (diff_price < 0), which can not possible."
   ]
  },
  {
   "cell_type": "code",
   "execution_count": 20,
   "metadata": {},
   "outputs": [
    {
     "data": {
      "text/html": [
       "<div>\n",
       "<style scoped>\n",
       "    .dataframe tbody tr th:only-of-type {\n",
       "        vertical-align: middle;\n",
       "    }\n",
       "\n",
       "    .dataframe tbody tr th {\n",
       "        vertical-align: top;\n",
       "    }\n",
       "\n",
       "    .dataframe thead th {\n",
       "        text-align: right;\n",
       "    }\n",
       "</style>\n",
       "<table border=\"1\" class=\"dataframe\">\n",
       "  <thead>\n",
       "    <tr style=\"text-align: right;\">\n",
       "      <th></th>\n",
       "      <th>APMC</th>\n",
       "      <th>Commodity</th>\n",
       "      <th>Year</th>\n",
       "      <th>Month</th>\n",
       "      <th>arrivals_in_qtl</th>\n",
       "      <th>min_price</th>\n",
       "      <th>max_price</th>\n",
       "      <th>modal_price</th>\n",
       "      <th>date</th>\n",
       "      <th>district_name</th>\n",
       "      <th>diff_price</th>\n",
       "    </tr>\n",
       "  </thead>\n",
       "  <tbody>\n",
       "    <tr>\n",
       "      <th>384</th>\n",
       "      <td>Ahmednagar</td>\n",
       "      <td>Coriander</td>\n",
       "      <td>2015</td>\n",
       "      <td>August</td>\n",
       "      <td>4230</td>\n",
       "      <td>5</td>\n",
       "      <td>1</td>\n",
       "      <td>7</td>\n",
       "      <td>2015-08-01</td>\n",
       "      <td>Ahmadnagar</td>\n",
       "      <td>-4</td>\n",
       "    </tr>\n",
       "    <tr>\n",
       "      <th>1153</th>\n",
       "      <td>Pathardi</td>\n",
       "      <td>Cotton</td>\n",
       "      <td>2015</td>\n",
       "      <td>February</td>\n",
       "      <td>2300</td>\n",
       "      <td>6805</td>\n",
       "      <td>3873</td>\n",
       "      <td>3798</td>\n",
       "      <td>2015-02-01</td>\n",
       "      <td>Ahmadnagar</td>\n",
       "      <td>-2932</td>\n",
       "    </tr>\n",
       "    <tr>\n",
       "      <th>2237</th>\n",
       "      <td>Pathardi</td>\n",
       "      <td>Bajri</td>\n",
       "      <td>2015</td>\n",
       "      <td>June</td>\n",
       "      <td>413</td>\n",
       "      <td>2600</td>\n",
       "      <td>1446</td>\n",
       "      <td>1325</td>\n",
       "      <td>2015-06-01</td>\n",
       "      <td>Ahmadnagar</td>\n",
       "      <td>-1154</td>\n",
       "    </tr>\n",
       "    <tr>\n",
       "      <th>2564</th>\n",
       "      <td>Pathardi</td>\n",
       "      <td>Pigeon Pea (Tur)</td>\n",
       "      <td>2015</td>\n",
       "      <td>March</td>\n",
       "      <td>16</td>\n",
       "      <td>5000</td>\n",
       "      <td>3025</td>\n",
       "      <td>5100</td>\n",
       "      <td>2015-03-01</td>\n",
       "      <td>Ahmadnagar</td>\n",
       "      <td>-1975</td>\n",
       "    </tr>\n",
       "    <tr>\n",
       "      <th>3175</th>\n",
       "      <td>Ahmednagar</td>\n",
       "      <td>Garlic</td>\n",
       "      <td>2015</td>\n",
       "      <td>November</td>\n",
       "      <td>53</td>\n",
       "      <td>14500</td>\n",
       "      <td>8813</td>\n",
       "      <td>7156</td>\n",
       "      <td>2015-11-01</td>\n",
       "      <td>Ahmadnagar</td>\n",
       "      <td>-5687</td>\n",
       "    </tr>\n",
       "  </tbody>\n",
       "</table>\n",
       "</div>"
      ],
      "text/plain": [
       "            APMC         Commodity  Year     Month  arrivals_in_qtl  \\\n",
       "384   Ahmednagar       Coriander    2015    August             4230   \n",
       "1153    Pathardi            Cotton  2015  February             2300   \n",
       "2237    Pathardi             Bajri  2015      June              413   \n",
       "2564    Pathardi  Pigeon Pea (Tur)  2015     March               16   \n",
       "3175  Ahmednagar            Garlic  2015  November               53   \n",
       "\n",
       "      min_price  max_price  modal_price       date district_name  diff_price  \n",
       "384           5          1            7 2015-08-01    Ahmadnagar          -4  \n",
       "1153       6805       3873         3798 2015-02-01    Ahmadnagar       -2932  \n",
       "2237       2600       1446         1325 2015-06-01    Ahmadnagar       -1154  \n",
       "2564       5000       3025         5100 2015-03-01    Ahmadnagar       -1975  \n",
       "3175      14500       8813         7156 2015-11-01    Ahmadnagar       -5687  "
      ]
     },
     "execution_count": 20,
     "metadata": {},
     "output_type": "execute_result"
    }
   ],
   "source": [
    "# check few of them\n",
    "cmo_monthly[cmo_monthly['diff_price'] < 0].head()"
   ]
  },
  {
   "cell_type": "markdown",
   "metadata": {},
   "source": [
    "So let's remove all the entities from our dataset which are having <b>diff_price < 0</b>."
   ]
  },
  {
   "cell_type": "code",
   "execution_count": 21,
   "metadata": {
    "collapsed": true
   },
   "outputs": [],
   "source": [
    "# remove entities from the dataset where diff_price < 0\n",
    "cmo_monthly.drop(cmo_monthly[cmo_monthly.diff_price < 0].index, inplace = True)"
   ]
  },
  {
   "cell_type": "markdown",
   "metadata": {},
   "source": [
    "Now, we successfully removed all the entities from our dataset where diff_price < 0."
   ]
  },
  {
   "cell_type": "code",
   "execution_count": 22,
   "metadata": {},
   "outputs": [
    {
     "data": {
      "text/plain": [
       "0"
      ]
     },
     "execution_count": 22,
     "metadata": {},
     "output_type": "execute_result"
    }
   ],
   "source": [
    "# recheck\n",
    "len(cmo_monthly[cmo_monthly['diff_price'] < 0])"
   ]
  },
  {
   "cell_type": "markdown",
   "metadata": {},
   "source": [
    "It's verified that all the entities have been removed."
   ]
  },
  {
   "cell_type": "markdown",
   "metadata": {},
   "source": [
    "Now, let's check out the entities where the diff_price is equal to zero i.e. where max_price is similar to the min_price."
   ]
  },
  {
   "cell_type": "code",
   "execution_count": 23,
   "metadata": {},
   "outputs": [
    {
     "data": {
      "text/plain": [
       "5747"
      ]
     },
     "execution_count": 23,
     "metadata": {},
     "output_type": "execute_result"
    }
   ],
   "source": [
    "# diff_price equals to zero\n",
    "len(cmo_monthly[cmo_monthly['diff_price'] == 0])"
   ]
  },
  {
   "cell_type": "markdown",
   "metadata": {},
   "source": [
    "There are <b>5747 entities in our dataset where diff_price equals to zero</b>. Or we can say that minimum price and maximum price is same."
   ]
  },
  {
   "cell_type": "markdown",
   "metadata": {},
   "source": [
    "<b>We can also say that there are total 5747 entities in our dataset where 'min_price', 'max_price', and 'modal_price' remain same. It means there is no flectuation seen in price in these entities.</b>"
   ]
  },
  {
   "cell_type": "markdown",
   "metadata": {},
   "source": [
    "We will know more about these attributes very soon. But now move towards our next attribute."
   ]
  },
  {
   "cell_type": "markdown",
   "metadata": {},
   "source": [
    "##### 3.6 arrival_in_qtl"
   ]
  },
  {
   "cell_type": "code",
   "execution_count": 24,
   "metadata": {},
   "outputs": [
    {
     "data": {
      "text/plain": [
       "count     61956.00000\n",
       "mean       6073.25107\n",
       "std       34786.45736\n",
       "min           1.00000\n",
       "25%          38.00000\n",
       "50%         213.00000\n",
       "75%        1372.25000\n",
       "max     1450254.00000\n",
       "Name: arrivals_in_qtl, dtype: float64"
      ]
     },
     "execution_count": 24,
     "metadata": {},
     "output_type": "execute_result"
    }
   ],
   "source": [
    "# Check out quantity arrival data\n",
    "cmo_monthly['arrivals_in_qtl'].describe()"
   ]
  },
  {
   "cell_type": "markdown",
   "metadata": {},
   "source": [
    "The above output shows us that the standard deviation value is much larger than the mean value, which means that out data is widely spread."
   ]
  },
  {
   "cell_type": "markdown",
   "metadata": {},
   "source": [
    "We can also check out the entities where our value is minimum and maximum."
   ]
  },
  {
   "cell_type": "code",
   "execution_count": 26,
   "metadata": {},
   "outputs": [
    {
     "data": {
      "text/plain": [
       "1432"
      ]
     },
     "execution_count": 26,
     "metadata": {},
     "output_type": "execute_result"
    }
   ],
   "source": [
    "# arrival_in_qtl is minimum\n",
    "len(cmo_monthly[cmo_monthly['arrivals_in_qtl'] == 1])"
   ]
  },
  {
   "cell_type": "markdown",
   "metadata": {},
   "source": [
    "There are total <b>1432 entities in our dataset where 'arrival_in_qtl' values is equal to 1</b>."
   ]
  },
  {
   "cell_type": "code",
   "execution_count": 27,
   "metadata": {},
   "outputs": [
    {
     "data": {
      "text/html": [
       "<div>\n",
       "<style scoped>\n",
       "    .dataframe tbody tr th:only-of-type {\n",
       "        vertical-align: middle;\n",
       "    }\n",
       "\n",
       "    .dataframe tbody tr th {\n",
       "        vertical-align: top;\n",
       "    }\n",
       "\n",
       "    .dataframe thead th {\n",
       "        text-align: right;\n",
       "    }\n",
       "</style>\n",
       "<table border=\"1\" class=\"dataframe\">\n",
       "  <thead>\n",
       "    <tr style=\"text-align: right;\">\n",
       "      <th></th>\n",
       "      <th>APMC</th>\n",
       "      <th>Commodity</th>\n",
       "      <th>Year</th>\n",
       "      <th>Month</th>\n",
       "      <th>arrivals_in_qtl</th>\n",
       "      <th>min_price</th>\n",
       "      <th>max_price</th>\n",
       "      <th>modal_price</th>\n",
       "      <th>date</th>\n",
       "      <th>district_name</th>\n",
       "      <th>diff_price</th>\n",
       "    </tr>\n",
       "  </thead>\n",
       "  <tbody>\n",
       "    <tr>\n",
       "      <th>44313</th>\n",
       "      <td>Manchar</td>\n",
       "      <td>Methi (Bhaji)</td>\n",
       "      <td>2015</td>\n",
       "      <td>November</td>\n",
       "      <td>1450254</td>\n",
       "      <td>228</td>\n",
       "      <td>1019</td>\n",
       "      <td>778</td>\n",
       "      <td>2015-11-01</td>\n",
       "      <td>Pune</td>\n",
       "      <td>791</td>\n",
       "    </tr>\n",
       "  </tbody>\n",
       "</table>\n",
       "</div>"
      ],
      "text/plain": [
       "          APMC      Commodity  Year     Month  arrivals_in_qtl  min_price  \\\n",
       "44313  Manchar  Methi (Bhaji)  2015  November          1450254        228   \n",
       "\n",
       "       max_price  modal_price       date district_name  diff_price  \n",
       "44313       1019          778 2015-11-01          Pune         791  "
      ]
     },
     "execution_count": 27,
     "metadata": {},
     "output_type": "execute_result"
    }
   ],
   "source": [
    "# arrival_in_qtl is maximum\n",
    "cmo_monthly[cmo_monthly['arrivals_in_qtl'] == 1450254]"
   ]
  },
  {
   "cell_type": "markdown",
   "metadata": {},
   "source": [
    "There is only <b>1 entity in our dataset where 'arrivals_in_qtl' is maximum</b>."
   ]
  },
  {
   "cell_type": "markdown",
   "metadata": {},
   "source": [
    "We will know more about them but firstly let's check our other attributes."
   ]
  },
  {
   "cell_type": "markdown",
   "metadata": {},
   "source": [
    "##### 3.7 Month"
   ]
  },
  {
   "cell_type": "code",
   "execution_count": 28,
   "metadata": {},
   "outputs": [
    {
     "data": {
      "text/plain": [
       "November     7143\n",
       "October      6824\n",
       "September    6458\n",
       "June         4865\n",
       "January      4832\n",
       "December     4781\n",
       "February     4585\n",
       "May          4559\n",
       "August       4534\n",
       "March        4495\n",
       "July         4479\n",
       "April        4401\n",
       "Name: Month, dtype: int64"
      ]
     },
     "execution_count": 28,
     "metadata": {},
     "output_type": "execute_result"
    }
   ],
   "source": [
    "# Check out unique months\n",
    "cmo_monthly['Month'].value_counts().sort_values(ascending = False)"
   ]
  },
  {
   "cell_type": "markdown",
   "metadata": {},
   "source": [
    "<b>The dataset contains all the 12 months. And most of out entities belong to November and October month (Autumn season), and least of our entities belong to April and July month (Spring and Summer season)."
   ]
  },
  {
   "cell_type": "markdown",
   "metadata": {},
   "source": [
    "##### 3.8 Year"
   ]
  },
  {
   "cell_type": "code",
   "execution_count": 29,
   "metadata": {},
   "outputs": [
    {
     "data": {
      "text/plain": [
       "2016    28915\n",
       "2015    25271\n",
       "2014     7770\n",
       "Name: Year, dtype: int64"
      ]
     },
     "execution_count": 29,
     "metadata": {},
     "output_type": "execute_result"
    }
   ],
   "source": [
    "# check out unique years\n",
    "cmo_monthly['Year'].value_counts().sort_values(ascending = False)"
   ]
  },
  {
   "cell_type": "markdown",
   "metadata": {},
   "source": [
    "<b>Most of our data belong to 2016 year.</b>"
   ]
  },
  {
   "cell_type": "markdown",
   "metadata": {},
   "source": [
    "##### 3.9 Commodity"
   ]
  },
  {
   "cell_type": "markdown",
   "metadata": {},
   "source": [
    "Now comes the main part. Let's know more about the different commodities we are having in our dataset. As from our past data analysis notebook we know that our dataset contains <b>352 unique commodities</b>. But some of the commodity names are in all caps."
   ]
  },
  {
   "cell_type": "markdown",
   "metadata": {},
   "source": [
    "Let's convert all the commodity names in small caps and then recheck how many unique commodities we are having in our dataset."
   ]
  },
  {
   "cell_type": "code",
   "execution_count": 30,
   "metadata": {
    "collapsed": true
   },
   "outputs": [],
   "source": [
    "# convert all the commodities name to lowercase\n",
    "cmo_monthly['Commodity'] = cmo_monthly['Commodity'].str.lower()"
   ]
  },
  {
   "cell_type": "code",
   "execution_count": 31,
   "metadata": {},
   "outputs": [
    {
     "data": {
      "text/plain": [
       "array(['bajri', 'wheat(husked)', 'sorgum(jawar)', 'maize', 'gram',\n",
       "       'horse gram', 'matki', 'pigeon pea (tur)', 'black gram',\n",
       "       'castor seed', 'soybean', 'jaggery', 'lemon', 'ginger (fresh)',\n",
       "       'potato', 'ladies finger', 'flower', 'carrot', 'cluster bean',\n",
       "       'ghevda', 'ghosali(bhaji)', 'mango(raw)', 'cucumber', 'onion',\n",
       "       'bitter gourd', 'cabbage', 'garlic', 'math (bhaji)', 'capsicum',\n",
       "       'tomato', 'brinjal', 'tamarind', 'tamarind seed',\n",
       "       'coriander (dry)', 'green chilli', 'chillies(red)', 'mustard',\n",
       "       'paddy-unhusked', 'hilda', 'chikoo', 'cotton',\n",
       "       'ground nut pods (dry)', 'pomegranate', 'papai', 'melon',\n",
       "       'beet root', 'bottle gourd', 'dhemse', 'coriander ', 'coriander  ',\n",
       "       'spinach', 'shevga', 'small gourd', 'grapes', 'kharbuj',\n",
       "       'green gram', 'sunflower', 'safflower', 'mango', 'water melon',\n",
       "       'mosambi', 'orange', 'fenugreek', 'cowpea', 'green peas (dry)',\n",
       "       'squash gourd', 'maize (corn.)', 'chino', 'curry leaves',\n",
       "       'sweet potato', 'walvad', 'rice(paddy-hus)', 'custard apple',\n",
       "       'green-peas', 'maize(corn.)', 'bhagar/vari', 'bor', 'kardai',\n",
       "       'other vegetables', 'radish', 'wal papdi', 'kanda pat', 'sesamum',\n",
       "       'shepu', 'guava', 'banana', 'chavli (shenga )', 'apple',\n",
       "       'thymol/lovage', 'batbati', 'other cereals', 'linseed',\n",
       "       'pineapple', 'pumpkin', 'methi (bhaji)', 'naspatti ', 'he buffalo',\n",
       "       'lentil', 'rajgira', 'papnas', 'awala', 'harbara(pendi)',\n",
       "       'buffalo', 'jambhul', 'amba koy', 'bullock heart', 'bullack',\n",
       "       'fig', 'wal bhaji', 'sugarcane', 'nagali', 'ridge gourd', 'tag',\n",
       "       'ginger (dry)', 'zendu', 'other spices', 'rala', 'niger-seed',\n",
       "       'indian bean', 'oth.split pulses', 'other pulses', 'sarsav',\n",
       "       'neem-seed', 'male lamb', 'male goat', 'sheep', 'other oil seeds',\n",
       "       'cow', 'snake gourd', 'jack fruit(raw)', 'chavli (pala)',\n",
       "       'raddish', 'mula shenga', 'pappaya (bhaji)', 'pigen-pea (bhaji)',\n",
       "       'goats', 'turmeric', 'amla', 'split gram', 'split lentil',\n",
       "       'spilt gerrn gram', 'spilt pigeon pea', 'split black gram',\n",
       "       'gr.nut kernels', 'pavtta', 'wood apple', 'strawberi',\n",
       "       'leafy vegetable', 'peer', 'plum', 'hemp-seed', 'wheat(unhusked)',\n",
       "       'guvar', 'punvad', 'fennel', 'coconut', 'sugar', 'arvi',\n",
       "       'french bean', 'elephant root', 'cummin', 'cashewnuts',\n",
       "       'betelnuts', 'cardamom', 'pitch', 'litchi', 'jack fruit', 'kand',\n",
       "       'parwar', 'mint', 'lang', 'ambat chuka', 'karvand', 'nolkol',\n",
       "       'hemp', 'baru seed', 'shepa', 'soup berries', 'shahale ',\n",
       "       'tandulja', 'ghee', 'farshi', 'double bee', 'banana(raw)',\n",
       "       'ghevda seed', 'goosefoot', 'pavata', 'harbara(bhaji)', 'gulchadi',\n",
       "       'shewanti', 'jui', 'kagda', 'terda', 'tuljapuri', 'bijli',\n",
       "       'nachani', 'bedana', 'fodder', 'skin & bones', 'aster', 'chandani',\n",
       "       'kalvad', 'shahale', 'groundnut pods (wet)'], dtype=object)"
      ]
     },
     "execution_count": 31,
     "metadata": {},
     "output_type": "execute_result"
    }
   ],
   "source": [
    "# check unique commodities\n",
    "uniq_com = cmo_monthly['Commodity'].unique()\n",
    "uniq_com"
   ]
  },
  {
   "cell_type": "code",
   "execution_count": 32,
   "metadata": {
    "collapsed": true
   },
   "outputs": [],
   "source": [
    "# Convert two categories in proper format so that they will not create bug furthur.\n",
    "d = {'bhagar/vari' : 'bhagar-vari', 'thymol/lovage': 'thymol-lovage'}\n",
    "cmo_monthly['Commodity'] = cmo_monthly['Commodity'].replace(d)"
   ]
  },
  {
   "cell_type": "code",
   "execution_count": 33,
   "metadata": {},
   "outputs": [
    {
     "data": {
      "text/plain": [
       "204"
      ]
     },
     "execution_count": 33,
     "metadata": {},
     "output_type": "execute_result"
    }
   ],
   "source": [
    "uniq_com = cmo_monthly['Commodity'].unique()\n",
    "len(uniq_com)"
   ]
  },
  {
   "cell_type": "markdown",
   "metadata": {},
   "source": [
    "<b>It's look that now we are having a lot lesser unique commodity names i.e. only 204 than previous i.e. 352</b>."
   ]
  },
  {
   "cell_type": "code",
   "execution_count": 34,
   "metadata": {},
   "outputs": [
    {
     "data": {
      "text/plain": [
       "gram                4092\n",
       "wheat(husked)       4060\n",
       "soybean             3694\n",
       "sorgum(jawar)       3689\n",
       "pigeon pea (tur)    3453\n",
       "Name: Commodity, dtype: int64"
      ]
     },
     "execution_count": 34,
     "metadata": {},
     "output_type": "execute_result"
    }
   ],
   "source": [
    "# Count the top five commodities\n",
    "cmo_monthly['Commodity'].value_counts().sort_values(ascending = False).head()"
   ]
  },
  {
   "cell_type": "markdown",
   "metadata": {},
   "source": [
    "<b>The top five commodity names that appeared in most of the entities are the same.</b>"
   ]
  },
  {
   "cell_type": "markdown",
   "metadata": {},
   "source": [
    "##### 3.10 APMC"
   ]
  },
  {
   "cell_type": "markdown",
   "metadata": {},
   "source": [
    "We previously analysied that we are having total <b>349 unique APMC categories</b>. And the top five APMC categories that appeared in most of the entities are:"
   ]
  },
  {
   "cell_type": "code",
   "execution_count": 35,
   "metadata": {},
   "outputs": [
    {
     "data": {
      "text/plain": [
       "Mumbai     1536\n",
       "Pune       1512\n",
       "Nagpur     1340\n",
       "Barshi     1076\n",
       "Jalgaon    1055\n",
       "Name: APMC, dtype: int64"
      ]
     },
     "execution_count": 35,
     "metadata": {},
     "output_type": "execute_result"
    }
   ],
   "source": [
    "# Count the top five APMC\n",
    "cmo_monthly['APMC'].value_counts().sort_values(ascending = False).head()"
   ]
  },
  {
   "cell_type": "markdown",
   "metadata": {},
   "source": [
    "<b>We have seen each attribute personally. Let's dig deeper and group our data based of different APMC and Commodity attribute. And then do more analysis.</b>"
   ]
  },
  {
   "cell_type": "markdown",
   "metadata": {},
   "source": [
    "##### 4. Analysis of each APMC and Commodity data"
   ]
  },
  {
   "cell_type": "code",
   "execution_count": 36,
   "metadata": {},
   "outputs": [
    {
     "data": {
      "text/html": [
       "<div>\n",
       "<style scoped>\n",
       "    .dataframe tbody tr th:only-of-type {\n",
       "        vertical-align: middle;\n",
       "    }\n",
       "\n",
       "    .dataframe tbody tr th {\n",
       "        vertical-align: top;\n",
       "    }\n",
       "\n",
       "    .dataframe thead th {\n",
       "        text-align: right;\n",
       "    }\n",
       "</style>\n",
       "<table border=\"1\" class=\"dataframe\">\n",
       "  <thead>\n",
       "    <tr style=\"text-align: right;\">\n",
       "      <th></th>\n",
       "      <th></th>\n",
       "      <th>Year</th>\n",
       "      <th>Month</th>\n",
       "      <th>arrivals_in_qtl</th>\n",
       "      <th>min_price</th>\n",
       "      <th>max_price</th>\n",
       "      <th>modal_price</th>\n",
       "      <th>date</th>\n",
       "      <th>district_name</th>\n",
       "      <th>diff_price</th>\n",
       "    </tr>\n",
       "    <tr>\n",
       "      <th>APMC</th>\n",
       "      <th>Commodity</th>\n",
       "      <th></th>\n",
       "      <th></th>\n",
       "      <th></th>\n",
       "      <th></th>\n",
       "      <th></th>\n",
       "      <th></th>\n",
       "      <th></th>\n",
       "      <th></th>\n",
       "      <th></th>\n",
       "    </tr>\n",
       "  </thead>\n",
       "  <tbody>\n",
       "    <tr>\n",
       "      <th rowspan=\"5\" valign=\"top\">Ahmednagar</th>\n",
       "      <th>bajri</th>\n",
       "      <td>2015</td>\n",
       "      <td>April</td>\n",
       "      <td>79</td>\n",
       "      <td>1406</td>\n",
       "      <td>1538</td>\n",
       "      <td>1463</td>\n",
       "      <td>2015-04-01</td>\n",
       "      <td>Ahmadnagar</td>\n",
       "      <td>132</td>\n",
       "    </tr>\n",
       "    <tr>\n",
       "      <th>bajri</th>\n",
       "      <td>2016</td>\n",
       "      <td>April</td>\n",
       "      <td>106</td>\n",
       "      <td>1788</td>\n",
       "      <td>1925</td>\n",
       "      <td>1875</td>\n",
       "      <td>2016-04-01</td>\n",
       "      <td>Ahmadnagar</td>\n",
       "      <td>137</td>\n",
       "    </tr>\n",
       "    <tr>\n",
       "      <th>wheat(husked)</th>\n",
       "      <td>2015</td>\n",
       "      <td>April</td>\n",
       "      <td>1253</td>\n",
       "      <td>1572</td>\n",
       "      <td>1890</td>\n",
       "      <td>1731</td>\n",
       "      <td>2015-04-01</td>\n",
       "      <td>Ahmadnagar</td>\n",
       "      <td>318</td>\n",
       "    </tr>\n",
       "    <tr>\n",
       "      <th>wheat(husked)</th>\n",
       "      <td>2016</td>\n",
       "      <td>April</td>\n",
       "      <td>387</td>\n",
       "      <td>1750</td>\n",
       "      <td>2220</td>\n",
       "      <td>1999</td>\n",
       "      <td>2016-04-01</td>\n",
       "      <td>Ahmadnagar</td>\n",
       "      <td>470</td>\n",
       "    </tr>\n",
       "    <tr>\n",
       "      <th>sorgum(jawar)</th>\n",
       "      <td>2015</td>\n",
       "      <td>April</td>\n",
       "      <td>3825</td>\n",
       "      <td>1600</td>\n",
       "      <td>2200</td>\n",
       "      <td>1900</td>\n",
       "      <td>2015-04-01</td>\n",
       "      <td>Ahmadnagar</td>\n",
       "      <td>600</td>\n",
       "    </tr>\n",
       "  </tbody>\n",
       "</table>\n",
       "</div>"
      ],
      "text/plain": [
       "                          Year  Month  arrivals_in_qtl  min_price  max_price  \\\n",
       "APMC       Commodity                                                           \n",
       "Ahmednagar bajri          2015  April               79       1406       1538   \n",
       "           bajri          2016  April              106       1788       1925   \n",
       "           wheat(husked)  2015  April             1253       1572       1890   \n",
       "           wheat(husked)  2016  April              387       1750       2220   \n",
       "           sorgum(jawar)  2015  April             3825       1600       2200   \n",
       "\n",
       "                          modal_price       date district_name  diff_price  \n",
       "APMC       Commodity                                                        \n",
       "Ahmednagar bajri                 1463 2015-04-01    Ahmadnagar         132  \n",
       "           bajri                 1875 2016-04-01    Ahmadnagar         137  \n",
       "           wheat(husked)         1731 2015-04-01    Ahmadnagar         318  \n",
       "           wheat(husked)         1999 2016-04-01    Ahmadnagar         470  \n",
       "           sorgum(jawar)         1900 2015-04-01    Ahmadnagar         600  "
      ]
     },
     "execution_count": 36,
     "metadata": {},
     "output_type": "execute_result"
    }
   ],
   "source": [
    "# Set APMC and Commodity attributes as the index\n",
    "cmo_monthly.set_index(['APMC', 'Commodity'], inplace = True)\n",
    "cmo_monthly.head()"
   ]
  },
  {
   "cell_type": "markdown",
   "metadata": {},
   "source": [
    "Now, our data is grouped according to different APMC and Commodity attribute."
   ]
  },
  {
   "cell_type": "markdown",
   "metadata": {},
   "source": [
    "As we know that we are having total 349 unique APMC names and 204 unique commodity names. And we need to find out the trend or seasonality in each of the different APMC and Commodity pair. So let's create different csv files for each APMC and commodity with having date attribute in the sorted format. In this way it would be easy for us to analyse each pair easily."
   ]
  },
  {
   "cell_type": "code",
   "execution_count": 37,
   "metadata": {
    "collapsed": true
   },
   "outputs": [],
   "source": [
    "# list down each APMC\n",
    "uniq_APMC = ['Ahmednagar', 'Akole', 'Jamkhed', 'Kopargaon', 'Newasa',\n",
    "       'Newasa-Ghodegaon', 'Parner', 'Pathardi', 'Rahata', 'Rahuri',\n",
    "       'Rahuri-Vambori', 'Sangamner', 'Shevgaon', 'Shevgaon-Bodhegaon',\n",
    "       'Shrirampur', 'Shrirampur-Belapur', 'Shrigonda',\n",
    "       'Shrigonda-Ghogargaon', 'Karjat (A- Nagar)', 'Rahuri-Songaon',\n",
    "       'Akola', 'Akot', 'Balapur', 'Murtizapur', 'Patur', 'Telhara',\n",
    "       'Barshi Takli', 'Achalpur', 'Amarawati',\n",
    "       'Amarawati-Fruit And Vegetables', 'Anajngaon Surji',\n",
    "       'Chandur Bajar', 'Chandur Rly.', 'Daryapur', 'Dhamangaon-Rly',\n",
    "       'Dharni', 'Morshi', 'Nandgaon Khandeshwar', 'Varud',\n",
    "       'Varud-Rajura Bazar', 'Tiwasa', 'Aurangabad', 'Fulambri',\n",
    "       'Gangapur', 'Kannad', 'Lasur Station', 'Paithan', 'Sillod',\n",
    "       'Sillod-Bharadi', 'Soygaon', 'Vaijapur', 'Khultabad', 'Ambejogai',\n",
    "       'Beed', 'Gevrai', 'Kada', 'Kada (Ashti)', 'Kej', 'Kille Dharur',\n",
    "       'Majalgaon', 'Parli-Vaijnath', 'Bhandara', 'Lakhandur', 'Lakhani',\n",
    "       'Pavani', 'Tumsar', 'Buldhana', 'Buldhana-Dhad', 'Chikhali',\n",
    "       'Deulgaon Raja', 'Jalgaon Jamod', 'Jalgaon Jamod-Aasalgaon',\n",
    "       'Khamgaon', 'Lonar', 'Malkapur', 'Mehkar', 'Nandura', 'Sangrampur',\n",
    "       'Sangrampur-Varvatbakal', 'Shegaon', 'Sindkhed Raja', 'Brahmpuri',\n",
    "       'Chandrapur', 'Chandrapur-Ganjwad', 'Chimur', 'Gondpimpri',\n",
    "       'Korpana', 'Mul', 'Nagbhid', 'Pombhurni', 'Rajura', 'Savali',\n",
    "       'Sindevahi', 'Varora', 'Bhadrawati', 'Dhule', 'Dondaicha',\n",
    "       'Dondaicha-Sindkheda', 'Sakri', 'Shirpur', 'Aheri', 'Armori',\n",
    "       'Armori-Desaiganj', 'Chamorshi', 'Gadchiroli', 'Sironcha',\n",
    "       'Aamgaon', 'Arjuni Morgaon', 'Gondiya', 'Sadak Arjuni', 'Tiroda',\n",
    "       'Goregaon', 'Devri', 'Akhadabalapur', 'Basmat', 'Hingoli',\n",
    "       'Jawala-Bajar', 'Kalamnuri', 'Sengaon', 'Basmat (Kurunda)',\n",
    "       'Hingoli-Kanegaon Naka', 'Amalner', 'Bhusaval', 'Bodwad-Varangaon',\n",
    "       'Chalisgaon', 'Chopda', 'Dharangaon', 'Jalgaon', 'Jalgaon-Masawat',\n",
    "       'Jamner', 'Jamner-Neri', 'Parola', 'Raver', 'Yawal', 'Pachora',\n",
    "       'Raver-Sawada', 'Ambad(Vadi Godri)', 'Bhokardan',\n",
    "       'Bhokardan-Pimpalgaon Renu', 'Ghansawangi', 'Jafrabad', 'Jalna',\n",
    "       'Jalna-Badnapur', 'Mantha', 'Partur', 'Ashti (Jalna)',\n",
    "       'Gadhinglaj', 'Kolhapur', 'Kolhapur-Laxmipuri',\n",
    "       'Kolhapur-Malkapur', 'Vadgaon Peth', 'Ahmedpur', 'Aurad Shahajani',\n",
    "       'Ausa', 'Chakur', 'Devani', 'Jalkot', 'Latur', 'Latur-Murud',\n",
    "       'Udgir', 'Nilanga', 'Mumbai', 'Mumbai-Fruit Market',\n",
    "       'Mumbai-Onion And Potato Mkt', 'Bhiwapur', 'Hingna', 'Kalmeshwar',\n",
    "       'Kamthi', 'Katol', 'Mandhal', 'Nagpur', 'Narkhed', 'Parshiwani',\n",
    "       'Ramtek', 'Savner', 'Umared', 'Mauda', 'Bhokar', 'Hadgaon',\n",
    "       'Hadgaon-Tamsa', 'Kinwat', 'Loha', 'Mahur', 'Nanded', 'Umari',\n",
    "       'Deglur', 'Naigaon', 'Dharmabad', 'Hanegaon', 'Himayatnagar',\n",
    "       'Kundalwadi', 'Mudkhed', 'Mukhed', 'Biloli', 'Kuntur', 'Akkalkuwa',\n",
    "       'Nandurbar', 'Navapur', 'Shahada', 'Taloda', 'Dhadgaon',\n",
    "       'Chandvad', 'Devala', 'Dindori', 'Dindori-Vani', 'Ghoti', 'Kalvan',\n",
    "       'Lasalgaon', 'Lasalgaon-Niphad', 'Lasalgaon-Vinchur', 'Malegaon',\n",
    "       'Manmad', 'Nampur', 'Nashik', 'Nashik-Devlali',\n",
    "       'Pimpalgaon (B)-Saykheda', 'Pimpalgaon Basawant', 'Satana',\n",
    "       'Sinner', 'Umrane', 'Yeola', 'Nandgaon', 'Kalamb (Os)', 'Murum',\n",
    "       'Osmanabad', 'Paranda', 'Tuljapur', 'Umarga', 'Lohara',\n",
    "       'Washi(Osmanabad)', 'Bhoom', 'Gangakhed', 'Jintur', 'Jintur-Bori',\n",
    "       'Palam', 'Parbhani', 'Pathari', 'Purna', 'Sailu', 'Sonpeth',\n",
    "       'Manwat', 'Bori', 'Tadkalas', 'Baramati', 'Dound', 'Indapur',\n",
    "       'Indapur (Nimgaon Ketki)', 'Indapur-Bhigwan', 'Junnar',\n",
    "       'Junnar (Alephata)', 'Junnar (Narayangaon)', 'Junnar-Otur',\n",
    "       'Khed (Shel Pimpalgaon)', 'Khed-Chakan', 'Manchar', 'Nira',\n",
    "       'Nira-Saswad', 'Pune', 'Pune-Manjri', 'Pune-Pimpri', 'Shirur',\n",
    "       'Junnar (Bhlhe)', 'Khed', 'Pune-Moshi', 'Bhor', 'Talegaon Dabhade',\n",
    "       'Alibag', 'Karjat (Raigad)', 'Mangaon(Bhadav)', 'Murud', 'Panvel',\n",
    "       'Pen', 'Roha', 'Khalapur(Shil-Phata)', 'Mahad', 'Ratanagari',\n",
    "       'Atpadi', 'Islampur', 'Sangali', 'Sangli-Miraj',\n",
    "       'Sangli-Phale Bhajipalam', 'Tasgaon', 'Palus', 'Vita', 'Shirala',\n",
    "       'Karad', 'Koregaon', 'Lonand', 'Patan', 'Phaltan', 'Satara',\n",
    "       'Vaduj', 'Vai', 'Akkolkot', 'Akluj', 'Barshi', 'Barshi-Vairag',\n",
    "       'Dudhani', 'Karmala', 'Kurdwadi', 'Kurdwadi-Modnimb',\n",
    "       'Mangalwedha', 'Mohol', 'Pandharpur', 'Sangola', 'Solapur',\n",
    "       'Bhivandi', 'Kalyan', 'Murbad', 'Palghar(Bevur)', 'Shahapur',\n",
    "       'Ulhasnagar', 'Vasai', 'Kalyan (Cattle Market)', 'Arvi',\n",
    "       'Ashti (Wardha)', 'Ashti-Karanja', 'Hinganghat', 'Pulgaon',\n",
    "       'Samudrapur', 'Sindi', 'Sindi (Selu)', 'Wardha', 'Karanja',\n",
    "       'Malegaon (Washim)', 'Mangrulpeer', 'Manora', 'Risod', 'Washim',\n",
    "       'Washim-Ansing', 'Aarni', 'Babhulgaon', 'Digras', 'Ghatanji',\n",
    "       'Kalamb (Yawatmal)', 'Mahagaon', 'Ner Parasopant', 'Pandharkawada',\n",
    "       'Pusad', 'Ralegaon', 'Umarkhed', 'Umarkhed-Danki', 'Vani',\n",
    "       'Yeotmal', 'Zarijamini', 'Maregaon', 'Bori Arab', 'Darwha',\n",
    "       'Vadvani']"
   ]
  },
  {
   "cell_type": "code",
   "execution_count": 38,
   "metadata": {
    "collapsed": true
   },
   "outputs": [],
   "source": [
    "os.chdir(os.getcwd() + '\\\\apmc_commodity')"
   ]
  },
  {
   "cell_type": "code",
   "execution_count": 39,
   "metadata": {
    "collapsed": true
   },
   "outputs": [],
   "source": [
    "cmo_monthly = cmo_monthly.sort_values(by = ['date'])"
   ]
  },
  {
   "cell_type": "code",
   "execution_count": 40,
   "metadata": {
    "collapsed": true
   },
   "outputs": [],
   "source": [
    "# write the function\n",
    "def apmc_commodity():\n",
    "    \n",
    "    for apmc in uniq_APMC:\n",
    "        apmc_name = cmo_monthly.loc[apmc]\n",
    "        apmc_comms = apmc_name.index.unique().tolist()\n",
    "        for comm in apmc_comms:\n",
    "            filename = apmc + '_' + comm + '.csv'\n",
    "            comms = apmc_name.loc[comm]\n",
    "            try:\n",
    "                comms.to_csv(filename, sep = ',', encoding = 'utf-8')\n",
    "            except Exception as e:\n",
    "                print(e)"
   ]
  },
  {
   "cell_type": "code",
   "execution_count": 41,
   "metadata": {
    "collapsed": true
   },
   "outputs": [],
   "source": [
    "apmc_commodity()"
   ]
  },
  {
   "cell_type": "markdown",
   "metadata": {},
   "source": [
    "<b>That's it, now we have successfully created different csv files of different APMC's and commodities, stored inside the apmc_commodity folder with their respective APMC_Commodity name.</b>"
   ]
  },
  {
   "cell_type": "markdown",
   "metadata": {},
   "source": [
    "Good, as now it's easy for us to visualize them seperatly. <b>Total files created are 4,830</b>."
   ]
  },
  {
   "cell_type": "markdown",
   "metadata": {},
   "source": [
    "<b>Analysis of each APMC and Commodity has been shown in different notebook (APMC_Commodity Analysis notebook).</b>"
   ]
  },
  {
   "cell_type": "code",
   "execution_count": null,
   "metadata": {
    "collapsed": true
   },
   "outputs": [],
   "source": []
  }
 ],
 "metadata": {
  "kernelspec": {
   "display_name": "Python 3",
   "language": "python",
   "name": "python3"
  },
  "language_info": {
   "codemirror_mode": {
    "name": "ipython",
    "version": 3
   },
   "file_extension": ".py",
   "mimetype": "text/x-python",
   "name": "python",
   "nbconvert_exporter": "python",
   "pygments_lexer": "ipython3",
   "version": "3.6.3"
  }
 },
 "nbformat": 4,
 "nbformat_minor": 2
}
