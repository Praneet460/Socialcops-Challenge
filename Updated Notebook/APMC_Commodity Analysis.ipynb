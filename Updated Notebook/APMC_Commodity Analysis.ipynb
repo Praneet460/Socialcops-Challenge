{
 "cells": [
  {
   "cell_type": "markdown",
   "metadata": {
    "collapsed": true
   },
   "source": [
    "## Socialcops Challenge"
   ]
  },
  {
   "cell_type": "markdown",
   "metadata": {},
   "source": [
    "#### Working with dataset of each APMC_Commodity inside apmc_commodity folder"
   ]
  },
  {
   "cell_type": "markdown",
   "metadata": {},
   "source": [
    "##### 1. Import Libraries"
   ]
  },
  {
   "cell_type": "code",
   "execution_count": 1,
   "metadata": {
    "collapsed": true
   },
   "outputs": [],
   "source": [
    "%matplotlib inline\n",
    "%config InlineBackend.figure_format='retina'\n",
    "\n",
    "from __future__ import absolute_import, division, print_function\n",
    "\n",
    "# Data wrangling\n",
    "import pandas as pd\n",
    "\n",
    "from statsmodels.tsa.seasonal import seasonal_decompose\n",
    "\n",
    "# Display and Plotting\n",
    "import matplotlib.pyplot as plt\n",
    "\n",
    "\n",
    "import os\n",
    "import random\n",
    "\n",
    "\n",
    "# pandas config\n",
    "pd.set_option('display.float_format', lambda x: '%.5f' % x) \n",
    "pd.set_option('display.max_columns', 100)\n",
    "pd.set_option('display.max_rows', 100)\n",
    "\n",
    "# set random seed\n",
    "random.seed(9001)"
   ]
  },
  {
   "cell_type": "markdown",
   "metadata": {},
   "source": [
    "We have successfully imported all the required packages and libraries. Now, it's time to load the dataset."
   ]
  },
  {
   "cell_type": "markdown",
   "metadata": {},
   "source": [
    "##### 2. Load the dataset"
   ]
  },
  {
   "cell_type": "markdown",
   "metadata": {},
   "source": [
    "Now, I will create a function that can import any CSV file inside the ```apmc_commodity``` folder. \n",
    "\n",
    "<b>Remember: </b> The csv filenames are in the format ```apmc_commodity``` i.e. before underscore ( _ ) we are having the commodity name and after underscore ( _ ) we are having the commodity name. So in this way we can import and analyise any APMC and Commodity of our choise."
   ]
  },
  {
   "cell_type": "code",
   "execution_count": 2,
   "metadata": {
    "collapsed": true
   },
   "outputs": [],
   "source": [
    "# Get current working dirctory\n",
    "def get_cwd():\n",
    "    return os.getcwd()\n",
    "\n",
    "data_folder = 'apmc_commodity'\n",
    "\n",
    "def read_file(filename: str):\n",
    "    dataset_path = os.path.join(get_cwd(), data_folder, filename)\n",
    "    return (pd.read_csv(dataset_path, parse_dates = ['date']))"
   ]
  },
  {
   "cell_type": "code",
   "execution_count": 3,
   "metadata": {},
   "outputs": [],
   "source": [
    "# list down all the filenames\n",
    "def files_list():\n",
    "    files = []\n",
    "    for file in os.listdir(os.path.join(get_cwd(), data_folder)):\n",
    "        files.append(file)\n",
    "    return files\n",
    "\n",
    "file_names = files_list()    "
   ]
  },
  {
   "cell_type": "code",
   "execution_count": 7,
   "metadata": {},
   "outputs": [
    {
     "data": {
      "text/plain": [
       "4830"
      ]
     },
     "execution_count": 7,
     "metadata": {},
     "output_type": "execute_result"
    }
   ],
   "source": [
    "total_files = len(file_names)\n",
    "total_files # total number of files inside apmc_commodity folder"
   ]
  },
  {
   "cell_type": "code",
   "execution_count": 8,
   "metadata": {},
   "outputs": [
    {
     "data": {
      "text/plain": [
       "'Aamgaon_paddy-unhusked.csv'"
      ]
     },
     "execution_count": 8,
     "metadata": {},
     "output_type": "execute_result"
    }
   ],
   "source": [
    "first_file_name = file_names[0]\n",
    "first_file_name"
   ]
  },
  {
   "cell_type": "code",
   "execution_count": 9,
   "metadata": {},
   "outputs": [
    {
     "data": {
      "text/html": [
       "<div>\n",
       "<style scoped>\n",
       "    .dataframe tbody tr th:only-of-type {\n",
       "        vertical-align: middle;\n",
       "    }\n",
       "\n",
       "    .dataframe tbody tr th {\n",
       "        vertical-align: top;\n",
       "    }\n",
       "\n",
       "    .dataframe thead th {\n",
       "        text-align: right;\n",
       "    }\n",
       "</style>\n",
       "<table border=\"1\" class=\"dataframe\">\n",
       "  <thead>\n",
       "    <tr style=\"text-align: right;\">\n",
       "      <th></th>\n",
       "      <th>Commodity</th>\n",
       "      <th>Year</th>\n",
       "      <th>Month</th>\n",
       "      <th>arrivals_in_qtl</th>\n",
       "      <th>min_price</th>\n",
       "      <th>max_price</th>\n",
       "      <th>modal_price</th>\n",
       "      <th>date</th>\n",
       "      <th>district_name</th>\n",
       "      <th>diff_price</th>\n",
       "    </tr>\n",
       "  </thead>\n",
       "  <tbody>\n",
       "    <tr>\n",
       "      <th>0</th>\n",
       "      <td>paddy-unhusked</td>\n",
       "      <td>2014</td>\n",
       "      <td>September</td>\n",
       "      <td>2779</td>\n",
       "      <td>1645</td>\n",
       "      <td>1843</td>\n",
       "      <td>1744</td>\n",
       "      <td>2014-09-01</td>\n",
       "      <td>Gondiya</td>\n",
       "      <td>198</td>\n",
       "    </tr>\n",
       "    <tr>\n",
       "      <th>1</th>\n",
       "      <td>paddy-unhusked</td>\n",
       "      <td>2014</td>\n",
       "      <td>October</td>\n",
       "      <td>2195</td>\n",
       "      <td>1591</td>\n",
       "      <td>1749</td>\n",
       "      <td>1670</td>\n",
       "      <td>2014-10-01</td>\n",
       "      <td>Gondiya</td>\n",
       "      <td>158</td>\n",
       "    </tr>\n",
       "    <tr>\n",
       "      <th>2</th>\n",
       "      <td>paddy-unhusked</td>\n",
       "      <td>2014</td>\n",
       "      <td>November</td>\n",
       "      <td>10153</td>\n",
       "      <td>1438</td>\n",
       "      <td>1577</td>\n",
       "      <td>1507</td>\n",
       "      <td>2014-11-01</td>\n",
       "      <td>Gondiya</td>\n",
       "      <td>139</td>\n",
       "    </tr>\n",
       "    <tr>\n",
       "      <th>3</th>\n",
       "      <td>paddy-unhusked</td>\n",
       "      <td>2014</td>\n",
       "      <td>December</td>\n",
       "      <td>14608</td>\n",
       "      <td>1481</td>\n",
       "      <td>1554</td>\n",
       "      <td>1518</td>\n",
       "      <td>2014-12-01</td>\n",
       "      <td>Gondiya</td>\n",
       "      <td>73</td>\n",
       "    </tr>\n",
       "    <tr>\n",
       "      <th>4</th>\n",
       "      <td>paddy-unhusked</td>\n",
       "      <td>2015</td>\n",
       "      <td>January</td>\n",
       "      <td>16775</td>\n",
       "      <td>1505</td>\n",
       "      <td>1562</td>\n",
       "      <td>1533</td>\n",
       "      <td>2015-01-01</td>\n",
       "      <td>Gondiya</td>\n",
       "      <td>57</td>\n",
       "    </tr>\n",
       "    <tr>\n",
       "      <th>5</th>\n",
       "      <td>paddy-unhusked</td>\n",
       "      <td>2015</td>\n",
       "      <td>February</td>\n",
       "      <td>7674</td>\n",
       "      <td>1481</td>\n",
       "      <td>1530</td>\n",
       "      <td>1505</td>\n",
       "      <td>2015-02-01</td>\n",
       "      <td>Gondiya</td>\n",
       "      <td>49</td>\n",
       "    </tr>\n",
       "    <tr>\n",
       "      <th>6</th>\n",
       "      <td>paddy-unhusked</td>\n",
       "      <td>2015</td>\n",
       "      <td>April</td>\n",
       "      <td>2728</td>\n",
       "      <td>1441</td>\n",
       "      <td>1442</td>\n",
       "      <td>1412</td>\n",
       "      <td>2015-04-01</td>\n",
       "      <td>Gondiya</td>\n",
       "      <td>1</td>\n",
       "    </tr>\n",
       "    <tr>\n",
       "      <th>7</th>\n",
       "      <td>paddy-unhusked</td>\n",
       "      <td>2015</td>\n",
       "      <td>May</td>\n",
       "      <td>3688</td>\n",
       "      <td>1367</td>\n",
       "      <td>1425</td>\n",
       "      <td>1402</td>\n",
       "      <td>2015-05-01</td>\n",
       "      <td>Gondiya</td>\n",
       "      <td>58</td>\n",
       "    </tr>\n",
       "    <tr>\n",
       "      <th>8</th>\n",
       "      <td>paddy-unhusked</td>\n",
       "      <td>2015</td>\n",
       "      <td>June</td>\n",
       "      <td>9312</td>\n",
       "      <td>1348</td>\n",
       "      <td>1369</td>\n",
       "      <td>1339</td>\n",
       "      <td>2015-06-01</td>\n",
       "      <td>Gondiya</td>\n",
       "      <td>21</td>\n",
       "    </tr>\n",
       "    <tr>\n",
       "      <th>9</th>\n",
       "      <td>paddy-unhusked</td>\n",
       "      <td>2015</td>\n",
       "      <td>July</td>\n",
       "      <td>5499</td>\n",
       "      <td>1459</td>\n",
       "      <td>1555</td>\n",
       "      <td>1510</td>\n",
       "      <td>2015-07-01</td>\n",
       "      <td>Gondiya</td>\n",
       "      <td>96</td>\n",
       "    </tr>\n",
       "    <tr>\n",
       "      <th>10</th>\n",
       "      <td>paddy-unhusked</td>\n",
       "      <td>2015</td>\n",
       "      <td>August</td>\n",
       "      <td>5046</td>\n",
       "      <td>1520</td>\n",
       "      <td>1603</td>\n",
       "      <td>1562</td>\n",
       "      <td>2015-08-01</td>\n",
       "      <td>Gondiya</td>\n",
       "      <td>83</td>\n",
       "    </tr>\n",
       "    <tr>\n",
       "      <th>11</th>\n",
       "      <td>paddy-unhusked</td>\n",
       "      <td>2015</td>\n",
       "      <td>September</td>\n",
       "      <td>3535</td>\n",
       "      <td>1651</td>\n",
       "      <td>1733</td>\n",
       "      <td>1691</td>\n",
       "      <td>2015-09-01</td>\n",
       "      <td>Gondiya</td>\n",
       "      <td>82</td>\n",
       "    </tr>\n",
       "    <tr>\n",
       "      <th>12</th>\n",
       "      <td>paddy-unhusked</td>\n",
       "      <td>2015</td>\n",
       "      <td>October</td>\n",
       "      <td>3326</td>\n",
       "      <td>1452</td>\n",
       "      <td>1531</td>\n",
       "      <td>1491</td>\n",
       "      <td>2015-10-01</td>\n",
       "      <td>Gondiya</td>\n",
       "      <td>79</td>\n",
       "    </tr>\n",
       "    <tr>\n",
       "      <th>13</th>\n",
       "      <td>paddy-unhusked</td>\n",
       "      <td>2015</td>\n",
       "      <td>November</td>\n",
       "      <td>7991</td>\n",
       "      <td>1470</td>\n",
       "      <td>1556</td>\n",
       "      <td>1512</td>\n",
       "      <td>2015-11-01</td>\n",
       "      <td>Gondiya</td>\n",
       "      <td>86</td>\n",
       "    </tr>\n",
       "    <tr>\n",
       "      <th>14</th>\n",
       "      <td>paddy-unhusked</td>\n",
       "      <td>2015</td>\n",
       "      <td>December</td>\n",
       "      <td>14645</td>\n",
       "      <td>1529</td>\n",
       "      <td>1600</td>\n",
       "      <td>1564</td>\n",
       "      <td>2015-12-01</td>\n",
       "      <td>Gondiya</td>\n",
       "      <td>71</td>\n",
       "    </tr>\n",
       "    <tr>\n",
       "      <th>15</th>\n",
       "      <td>paddy-unhusked</td>\n",
       "      <td>2016</td>\n",
       "      <td>January</td>\n",
       "      <td>9539</td>\n",
       "      <td>1489</td>\n",
       "      <td>1558</td>\n",
       "      <td>1523</td>\n",
       "      <td>2016-01-01</td>\n",
       "      <td>Gondiya</td>\n",
       "      <td>69</td>\n",
       "    </tr>\n",
       "    <tr>\n",
       "      <th>16</th>\n",
       "      <td>paddy-unhusked</td>\n",
       "      <td>2016</td>\n",
       "      <td>February</td>\n",
       "      <td>6883</td>\n",
       "      <td>1526</td>\n",
       "      <td>1591</td>\n",
       "      <td>1558</td>\n",
       "      <td>2016-02-01</td>\n",
       "      <td>Gondiya</td>\n",
       "      <td>65</td>\n",
       "    </tr>\n",
       "    <tr>\n",
       "      <th>17</th>\n",
       "      <td>paddy-unhusked</td>\n",
       "      <td>2016</td>\n",
       "      <td>March</td>\n",
       "      <td>2908</td>\n",
       "      <td>1602</td>\n",
       "      <td>1664</td>\n",
       "      <td>1633</td>\n",
       "      <td>2016-03-01</td>\n",
       "      <td>Gondiya</td>\n",
       "      <td>62</td>\n",
       "    </tr>\n",
       "    <tr>\n",
       "      <th>18</th>\n",
       "      <td>paddy-unhusked</td>\n",
       "      <td>2016</td>\n",
       "      <td>April</td>\n",
       "      <td>1481</td>\n",
       "      <td>1630</td>\n",
       "      <td>1684</td>\n",
       "      <td>1657</td>\n",
       "      <td>2016-04-01</td>\n",
       "      <td>Gondiya</td>\n",
       "      <td>54</td>\n",
       "    </tr>\n",
       "    <tr>\n",
       "      <th>19</th>\n",
       "      <td>paddy-unhusked</td>\n",
       "      <td>2016</td>\n",
       "      <td>May</td>\n",
       "      <td>10019</td>\n",
       "      <td>1527</td>\n",
       "      <td>1640</td>\n",
       "      <td>1578</td>\n",
       "      <td>2016-05-01</td>\n",
       "      <td>Gondiya</td>\n",
       "      <td>113</td>\n",
       "    </tr>\n",
       "    <tr>\n",
       "      <th>20</th>\n",
       "      <td>paddy-unhusked</td>\n",
       "      <td>2016</td>\n",
       "      <td>June</td>\n",
       "      <td>10278</td>\n",
       "      <td>1536</td>\n",
       "      <td>1670</td>\n",
       "      <td>1604</td>\n",
       "      <td>2016-06-01</td>\n",
       "      <td>Gondiya</td>\n",
       "      <td>134</td>\n",
       "    </tr>\n",
       "    <tr>\n",
       "      <th>21</th>\n",
       "      <td>paddy-unhusked</td>\n",
       "      <td>2016</td>\n",
       "      <td>July</td>\n",
       "      <td>1805</td>\n",
       "      <td>1626</td>\n",
       "      <td>1752</td>\n",
       "      <td>1693</td>\n",
       "      <td>2016-07-01</td>\n",
       "      <td>Gondiya</td>\n",
       "      <td>126</td>\n",
       "    </tr>\n",
       "    <tr>\n",
       "      <th>22</th>\n",
       "      <td>paddy-unhusked</td>\n",
       "      <td>2016</td>\n",
       "      <td>August</td>\n",
       "      <td>1819</td>\n",
       "      <td>1598</td>\n",
       "      <td>1713</td>\n",
       "      <td>1667</td>\n",
       "      <td>2016-08-01</td>\n",
       "      <td>Gondiya</td>\n",
       "      <td>115</td>\n",
       "    </tr>\n",
       "    <tr>\n",
       "      <th>23</th>\n",
       "      <td>paddy-unhusked</td>\n",
       "      <td>2016</td>\n",
       "      <td>September</td>\n",
       "      <td>1970</td>\n",
       "      <td>1630</td>\n",
       "      <td>1751</td>\n",
       "      <td>1697</td>\n",
       "      <td>2016-09-01</td>\n",
       "      <td>Gondiya</td>\n",
       "      <td>121</td>\n",
       "    </tr>\n",
       "    <tr>\n",
       "      <th>24</th>\n",
       "      <td>paddy-unhusked</td>\n",
       "      <td>2016</td>\n",
       "      <td>October</td>\n",
       "      <td>4523</td>\n",
       "      <td>1401</td>\n",
       "      <td>1491</td>\n",
       "      <td>1445</td>\n",
       "      <td>2016-10-01</td>\n",
       "      <td>Gondiya</td>\n",
       "      <td>90</td>\n",
       "    </tr>\n",
       "    <tr>\n",
       "      <th>25</th>\n",
       "      <td>paddy-unhusked</td>\n",
       "      <td>2016</td>\n",
       "      <td>November</td>\n",
       "      <td>6382</td>\n",
       "      <td>1388</td>\n",
       "      <td>1451</td>\n",
       "      <td>1419</td>\n",
       "      <td>2016-11-01</td>\n",
       "      <td>Gondiya</td>\n",
       "      <td>63</td>\n",
       "    </tr>\n",
       "  </tbody>\n",
       "</table>\n",
       "</div>"
      ],
      "text/plain": [
       "         Commodity  Year      Month  arrivals_in_qtl  min_price  max_price  \\\n",
       "0   paddy-unhusked  2014  September             2779       1645       1843   \n",
       "1   paddy-unhusked  2014    October             2195       1591       1749   \n",
       "2   paddy-unhusked  2014   November            10153       1438       1577   \n",
       "3   paddy-unhusked  2014   December            14608       1481       1554   \n",
       "4   paddy-unhusked  2015    January            16775       1505       1562   \n",
       "5   paddy-unhusked  2015   February             7674       1481       1530   \n",
       "6   paddy-unhusked  2015      April             2728       1441       1442   \n",
       "7   paddy-unhusked  2015        May             3688       1367       1425   \n",
       "8   paddy-unhusked  2015       June             9312       1348       1369   \n",
       "9   paddy-unhusked  2015       July             5499       1459       1555   \n",
       "10  paddy-unhusked  2015     August             5046       1520       1603   \n",
       "11  paddy-unhusked  2015  September             3535       1651       1733   \n",
       "12  paddy-unhusked  2015    October             3326       1452       1531   \n",
       "13  paddy-unhusked  2015   November             7991       1470       1556   \n",
       "14  paddy-unhusked  2015   December            14645       1529       1600   \n",
       "15  paddy-unhusked  2016    January             9539       1489       1558   \n",
       "16  paddy-unhusked  2016   February             6883       1526       1591   \n",
       "17  paddy-unhusked  2016      March             2908       1602       1664   \n",
       "18  paddy-unhusked  2016      April             1481       1630       1684   \n",
       "19  paddy-unhusked  2016        May            10019       1527       1640   \n",
       "20  paddy-unhusked  2016       June            10278       1536       1670   \n",
       "21  paddy-unhusked  2016       July             1805       1626       1752   \n",
       "22  paddy-unhusked  2016     August             1819       1598       1713   \n",
       "23  paddy-unhusked  2016  September             1970       1630       1751   \n",
       "24  paddy-unhusked  2016    October             4523       1401       1491   \n",
       "25  paddy-unhusked  2016   November             6382       1388       1451   \n",
       "\n",
       "    modal_price       date district_name  diff_price  \n",
       "0          1744 2014-09-01       Gondiya         198  \n",
       "1          1670 2014-10-01       Gondiya         158  \n",
       "2          1507 2014-11-01       Gondiya         139  \n",
       "3          1518 2014-12-01       Gondiya          73  \n",
       "4          1533 2015-01-01       Gondiya          57  \n",
       "5          1505 2015-02-01       Gondiya          49  \n",
       "6          1412 2015-04-01       Gondiya           1  \n",
       "7          1402 2015-05-01       Gondiya          58  \n",
       "8          1339 2015-06-01       Gondiya          21  \n",
       "9          1510 2015-07-01       Gondiya          96  \n",
       "10         1562 2015-08-01       Gondiya          83  \n",
       "11         1691 2015-09-01       Gondiya          82  \n",
       "12         1491 2015-10-01       Gondiya          79  \n",
       "13         1512 2015-11-01       Gondiya          86  \n",
       "14         1564 2015-12-01       Gondiya          71  \n",
       "15         1523 2016-01-01       Gondiya          69  \n",
       "16         1558 2016-02-01       Gondiya          65  \n",
       "17         1633 2016-03-01       Gondiya          62  \n",
       "18         1657 2016-04-01       Gondiya          54  \n",
       "19         1578 2016-05-01       Gondiya         113  \n",
       "20         1604 2016-06-01       Gondiya         134  \n",
       "21         1693 2016-07-01       Gondiya         126  \n",
       "22         1667 2016-08-01       Gondiya         115  \n",
       "23         1697 2016-09-01       Gondiya         121  \n",
       "24         1445 2016-10-01       Gondiya          90  \n",
       "25         1419 2016-11-01       Gondiya          63  "
      ]
     },
     "execution_count": 9,
     "metadata": {},
     "output_type": "execute_result"
    }
   ],
   "source": [
    "aamgaon_paddy = read_file(first_file_name)\n",
    "aamgaon_paddy"
   ]
  },
  {
   "cell_type": "markdown",
   "metadata": {},
   "source": [
    "##### Function- 1\n",
    "* <b>read_file(filename): </b>Read the file  "
   ]
  },
  {
   "cell_type": "markdown",
   "metadata": {},
   "source": [
    "#### 2. EDA"
   ]
  },
  {
   "cell_type": "markdown",
   "metadata": {},
   "source": [
    "Let's create small functions to analyse each of the attributes of out dataset."
   ]
  },
  {
   "cell_type": "markdown",
   "metadata": {},
   "source": [
    "##### 2.1 diff_price"
   ]
  },
  {
   "cell_type": "markdown",
   "metadata": {},
   "source": [
    "As we have already removed the entities having <b>diff_price</b> less than zero so now only one thing is important to know, <b>weather the diff_price value is 0 (i.e. min_price, max_price and modal_price remain same) for any entity or not?</b>"
   ]
  },
  {
   "cell_type": "code",
   "execution_count": 10,
   "metadata": {
    "collapsed": true
   },
   "outputs": [],
   "source": [
    "# function to show entities having diff_price equals to zero\n",
    "def diff_price_zero(filename: str):\n",
    "    apmc_comm = read_file(filename)\n",
    "    result = apmc_comm[apmc_comm['diff_price'] == 0]\n",
    "    if (len(result) == 0):\n",
    "        print(\"No entity having diff_price equals to zero.\")\n",
    "    else:\n",
    "        return (result)\n",
    "    "
   ]
  },
  {
   "cell_type": "code",
   "execution_count": 11,
   "metadata": {},
   "outputs": [
    {
     "name": "stdout",
     "output_type": "stream",
     "text": [
      "No entity having diff_price equals to zero.\n"
     ]
    }
   ],
   "source": [
    "diff_price_zero(first_file_name)"
   ]
  },
  {
   "cell_type": "markdown",
   "metadata": {},
   "source": [
    "The function is working fine let's check out the files having diff_price equals to zero."
   ]
  },
  {
   "cell_type": "code",
   "execution_count": 12,
   "metadata": {},
   "outputs": [
    {
     "data": {
      "text/plain": [
       "'Achalpur_bajri.csv'"
      ]
     },
     "execution_count": 12,
     "metadata": {},
     "output_type": "execute_result"
    }
   ],
   "source": [
    "tenth_file_name = file_names[9]\n",
    "tenth_file_name"
   ]
  },
  {
   "cell_type": "code",
   "execution_count": 16,
   "metadata": {},
   "outputs": [
    {
     "data": {
      "text/html": [
       "<div>\n",
       "<style scoped>\n",
       "    .dataframe tbody tr th:only-of-type {\n",
       "        vertical-align: middle;\n",
       "    }\n",
       "\n",
       "    .dataframe tbody tr th {\n",
       "        vertical-align: top;\n",
       "    }\n",
       "\n",
       "    .dataframe thead th {\n",
       "        text-align: right;\n",
       "    }\n",
       "</style>\n",
       "<table border=\"1\" class=\"dataframe\">\n",
       "  <thead>\n",
       "    <tr style=\"text-align: right;\">\n",
       "      <th></th>\n",
       "      <th>Commodity</th>\n",
       "      <th>Year</th>\n",
       "      <th>Month</th>\n",
       "      <th>arrivals_in_qtl</th>\n",
       "      <th>min_price</th>\n",
       "      <th>max_price</th>\n",
       "      <th>modal_price</th>\n",
       "      <th>date</th>\n",
       "      <th>district_name</th>\n",
       "      <th>diff_price</th>\n",
       "    </tr>\n",
       "  </thead>\n",
       "  <tbody>\n",
       "    <tr>\n",
       "      <th>0</th>\n",
       "      <td>bajri</td>\n",
       "      <td>2014</td>\n",
       "      <td>October</td>\n",
       "      <td>1</td>\n",
       "      <td>1725</td>\n",
       "      <td>1725</td>\n",
       "      <td>1725</td>\n",
       "      <td>2014-10-01</td>\n",
       "      <td>Amaravathi</td>\n",
       "      <td>0</td>\n",
       "    </tr>\n",
       "    <tr>\n",
       "      <th>2</th>\n",
       "      <td>bajri</td>\n",
       "      <td>2016</td>\n",
       "      <td>January</td>\n",
       "      <td>2</td>\n",
       "      <td>1700</td>\n",
       "      <td>1700</td>\n",
       "      <td>1700</td>\n",
       "      <td>2016-01-01</td>\n",
       "      <td>Amaravathi</td>\n",
       "      <td>0</td>\n",
       "    </tr>\n",
       "    <tr>\n",
       "      <th>3</th>\n",
       "      <td>bajri</td>\n",
       "      <td>2016</td>\n",
       "      <td>February</td>\n",
       "      <td>2</td>\n",
       "      <td>1725</td>\n",
       "      <td>1725</td>\n",
       "      <td>1725</td>\n",
       "      <td>2016-02-01</td>\n",
       "      <td>Amaravathi</td>\n",
       "      <td>0</td>\n",
       "    </tr>\n",
       "    <tr>\n",
       "      <th>4</th>\n",
       "      <td>bajri</td>\n",
       "      <td>2016</td>\n",
       "      <td>May</td>\n",
       "      <td>1</td>\n",
       "      <td>1700</td>\n",
       "      <td>1700</td>\n",
       "      <td>1700</td>\n",
       "      <td>2016-05-01</td>\n",
       "      <td>Amaravathi</td>\n",
       "      <td>0</td>\n",
       "    </tr>\n",
       "  </tbody>\n",
       "</table>\n",
       "</div>"
      ],
      "text/plain": [
       "  Commodity  Year     Month  arrivals_in_qtl  min_price  max_price  \\\n",
       "0     bajri  2014   October                1       1725       1725   \n",
       "2     bajri  2016   January                2       1700       1700   \n",
       "3     bajri  2016  February                2       1725       1725   \n",
       "4     bajri  2016       May                1       1700       1700   \n",
       "\n",
       "   modal_price       date district_name  diff_price  \n",
       "0         1725 2014-10-01    Amaravathi           0  \n",
       "2         1700 2016-01-01    Amaravathi           0  \n",
       "3         1725 2016-02-01    Amaravathi           0  \n",
       "4         1700 2016-05-01    Amaravathi           0  "
      ]
     },
     "execution_count": 16,
     "metadata": {},
     "output_type": "execute_result"
    }
   ],
   "source": [
    "diff_price_zero(tenth_file_name)"
   ]
  },
  {
   "cell_type": "markdown",
   "metadata": {},
   "source": [
    "<b>Conclusion: </b>This shows that the <b>Achalpur</b> APMC and <b>bajri</b> commodity is having <b>min_price, max_price, and modal_price same i.e. no fluctuation in price during 2014 (October) and 2016 (January, February, and May)."
   ]
  },
  {
   "cell_type": "markdown",
   "metadata": {},
   "source": [
    "Let's check out the whole file of 'Achalpur' APMC and 'bajri' commodity."
   ]
  },
  {
   "cell_type": "code",
   "execution_count": 17,
   "metadata": {},
   "outputs": [
    {
     "data": {
      "text/html": [
       "<div>\n",
       "<style scoped>\n",
       "    .dataframe tbody tr th:only-of-type {\n",
       "        vertical-align: middle;\n",
       "    }\n",
       "\n",
       "    .dataframe tbody tr th {\n",
       "        vertical-align: top;\n",
       "    }\n",
       "\n",
       "    .dataframe thead th {\n",
       "        text-align: right;\n",
       "    }\n",
       "</style>\n",
       "<table border=\"1\" class=\"dataframe\">\n",
       "  <thead>\n",
       "    <tr style=\"text-align: right;\">\n",
       "      <th></th>\n",
       "      <th>Commodity</th>\n",
       "      <th>Year</th>\n",
       "      <th>Month</th>\n",
       "      <th>arrivals_in_qtl</th>\n",
       "      <th>min_price</th>\n",
       "      <th>max_price</th>\n",
       "      <th>modal_price</th>\n",
       "      <th>date</th>\n",
       "      <th>district_name</th>\n",
       "      <th>diff_price</th>\n",
       "    </tr>\n",
       "  </thead>\n",
       "  <tbody>\n",
       "    <tr>\n",
       "      <th>0</th>\n",
       "      <td>bajri</td>\n",
       "      <td>2014</td>\n",
       "      <td>October</td>\n",
       "      <td>1</td>\n",
       "      <td>1725</td>\n",
       "      <td>1725</td>\n",
       "      <td>1725</td>\n",
       "      <td>2014-10-01</td>\n",
       "      <td>Amaravathi</td>\n",
       "      <td>0</td>\n",
       "    </tr>\n",
       "    <tr>\n",
       "      <th>1</th>\n",
       "      <td>bajri</td>\n",
       "      <td>2015</td>\n",
       "      <td>January</td>\n",
       "      <td>2</td>\n",
       "      <td>1500</td>\n",
       "      <td>1630</td>\n",
       "      <td>1565</td>\n",
       "      <td>2015-01-01</td>\n",
       "      <td>Amaravathi</td>\n",
       "      <td>130</td>\n",
       "    </tr>\n",
       "    <tr>\n",
       "      <th>2</th>\n",
       "      <td>bajri</td>\n",
       "      <td>2016</td>\n",
       "      <td>January</td>\n",
       "      <td>2</td>\n",
       "      <td>1700</td>\n",
       "      <td>1700</td>\n",
       "      <td>1700</td>\n",
       "      <td>2016-01-01</td>\n",
       "      <td>Amaravathi</td>\n",
       "      <td>0</td>\n",
       "    </tr>\n",
       "    <tr>\n",
       "      <th>3</th>\n",
       "      <td>bajri</td>\n",
       "      <td>2016</td>\n",
       "      <td>February</td>\n",
       "      <td>2</td>\n",
       "      <td>1725</td>\n",
       "      <td>1725</td>\n",
       "      <td>1725</td>\n",
       "      <td>2016-02-01</td>\n",
       "      <td>Amaravathi</td>\n",
       "      <td>0</td>\n",
       "    </tr>\n",
       "    <tr>\n",
       "      <th>4</th>\n",
       "      <td>bajri</td>\n",
       "      <td>2016</td>\n",
       "      <td>May</td>\n",
       "      <td>1</td>\n",
       "      <td>1700</td>\n",
       "      <td>1700</td>\n",
       "      <td>1700</td>\n",
       "      <td>2016-05-01</td>\n",
       "      <td>Amaravathi</td>\n",
       "      <td>0</td>\n",
       "    </tr>\n",
       "  </tbody>\n",
       "</table>\n",
       "</div>"
      ],
      "text/plain": [
       "  Commodity  Year     Month  arrivals_in_qtl  min_price  max_price  \\\n",
       "0     bajri  2014   October                1       1725       1725   \n",
       "1     bajri  2015   January                2       1500       1630   \n",
       "2     bajri  2016   January                2       1700       1700   \n",
       "3     bajri  2016  February                2       1725       1725   \n",
       "4     bajri  2016       May                1       1700       1700   \n",
       "\n",
       "   modal_price       date district_name  diff_price  \n",
       "0         1725 2014-10-01    Amaravathi           0  \n",
       "1         1565 2015-01-01    Amaravathi         130  \n",
       "2         1700 2016-01-01    Amaravathi           0  \n",
       "3         1725 2016-02-01    Amaravathi           0  \n",
       "4         1700 2016-05-01    Amaravathi           0  "
      ]
     },
     "execution_count": 17,
     "metadata": {},
     "output_type": "execute_result"
    }
   ],
   "source": [
    "read_file(tenth_file_name)"
   ]
  },
  {
   "cell_type": "markdown",
   "metadata": {},
   "source": [
    "<b>Conclusion: </b> Only fluctuation in price can be seen during the month of January of 2015."
   ]
  },
  {
   "cell_type": "markdown",
   "metadata": {},
   "source": [
    "##### Function-2:\n",
    "* <b>diff_price_zero(filename): </b> check wheather the file conatins the entities having diff_values euals to zero? And if yes, show them. "
   ]
  },
  {
   "cell_type": "markdown",
   "metadata": {},
   "source": [
    "#### 2.2 district_name"
   ]
  },
  {
   "cell_type": "markdown",
   "metadata": {},
   "source": [
    "Let's talk about the next attribute of out dataset. \n",
    "\n",
    "Now create a function that tell us the all unique districts in our dataset."
   ]
  },
  {
   "cell_type": "code",
   "execution_count": 18,
   "metadata": {
    "collapsed": true
   },
   "outputs": [],
   "source": [
    "# function tells unique district_names\n",
    "def uniq_dist(filename: str):\n",
    "    apmc_comm = read_file(filename)\n",
    "    return (apmc_comm['district_name'].unique().tolist())"
   ]
  },
  {
   "cell_type": "markdown",
   "metadata": {},
   "source": [
    "The function is successfully created. Let's test it out."
   ]
  },
  {
   "cell_type": "code",
   "execution_count": 20,
   "metadata": {},
   "outputs": [
    {
     "data": {
      "text/plain": [
       "'Amarawati_carrot.csv'"
      ]
     },
     "execution_count": 20,
     "metadata": {},
     "output_type": "execute_result"
    }
   ],
   "source": [
    "# lets choose a random file\n",
    "random_file_1 = file_names[random.randint(0, len(file_names))]\n",
    "random_file_1"
   ]
  },
  {
   "cell_type": "code",
   "execution_count": 21,
   "metadata": {},
   "outputs": [
    {
     "data": {
      "text/plain": [
       "['Amaravathi']"
      ]
     },
     "execution_count": 21,
     "metadata": {},
     "output_type": "execute_result"
    }
   ],
   "source": [
    "# check unique district names in above file\n",
    "# 'Amarawati' -> APMC and 'carrot' -> commodity\n",
    "uniq_dist(random_file_1)"
   ]
  },
  {
   "cell_type": "markdown",
   "metadata": {},
   "source": [
    "We are having only 'Amaravathi' as the district name. Lets check out is this file contains any entity with diff_price equals to zero."
   ]
  },
  {
   "cell_type": "code",
   "execution_count": 22,
   "metadata": {},
   "outputs": [
    {
     "name": "stdout",
     "output_type": "stream",
     "text": [
      "No entity having diff_price equals to zero.\n"
     ]
    }
   ],
   "source": [
    "diff_price_zero(random_file_1)"
   ]
  },
  {
   "cell_type": "code",
   "execution_count": 23,
   "metadata": {},
   "outputs": [
    {
     "data": {
      "text/html": [
       "<div>\n",
       "<style scoped>\n",
       "    .dataframe tbody tr th:only-of-type {\n",
       "        vertical-align: middle;\n",
       "    }\n",
       "\n",
       "    .dataframe tbody tr th {\n",
       "        vertical-align: top;\n",
       "    }\n",
       "\n",
       "    .dataframe thead th {\n",
       "        text-align: right;\n",
       "    }\n",
       "</style>\n",
       "<table border=\"1\" class=\"dataframe\">\n",
       "  <thead>\n",
       "    <tr style=\"text-align: right;\">\n",
       "      <th></th>\n",
       "      <th>Commodity</th>\n",
       "      <th>Year</th>\n",
       "      <th>Month</th>\n",
       "      <th>arrivals_in_qtl</th>\n",
       "      <th>min_price</th>\n",
       "      <th>max_price</th>\n",
       "      <th>modal_price</th>\n",
       "      <th>date</th>\n",
       "      <th>district_name</th>\n",
       "      <th>diff_price</th>\n",
       "    </tr>\n",
       "  </thead>\n",
       "  <tbody>\n",
       "    <tr>\n",
       "      <th>0</th>\n",
       "      <td>carrot</td>\n",
       "      <td>2015</td>\n",
       "      <td>August</td>\n",
       "      <td>6</td>\n",
       "      <td>1350</td>\n",
       "      <td>1500</td>\n",
       "      <td>1420</td>\n",
       "      <td>2015-08-01</td>\n",
       "      <td>Amaravathi</td>\n",
       "      <td>150</td>\n",
       "    </tr>\n",
       "    <tr>\n",
       "      <th>1</th>\n",
       "      <td>carrot</td>\n",
       "      <td>2015</td>\n",
       "      <td>September</td>\n",
       "      <td>9</td>\n",
       "      <td>2333</td>\n",
       "      <td>2533</td>\n",
       "      <td>2379</td>\n",
       "      <td>2015-09-01</td>\n",
       "      <td>Amaravathi</td>\n",
       "      <td>200</td>\n",
       "    </tr>\n",
       "    <tr>\n",
       "      <th>2</th>\n",
       "      <td>carrot</td>\n",
       "      <td>2015</td>\n",
       "      <td>October</td>\n",
       "      <td>26</td>\n",
       "      <td>3986</td>\n",
       "      <td>4314</td>\n",
       "      <td>4088</td>\n",
       "      <td>2015-10-01</td>\n",
       "      <td>Amaravathi</td>\n",
       "      <td>328</td>\n",
       "    </tr>\n",
       "    <tr>\n",
       "      <th>3</th>\n",
       "      <td>carrot</td>\n",
       "      <td>2015</td>\n",
       "      <td>November</td>\n",
       "      <td>17</td>\n",
       "      <td>2167</td>\n",
       "      <td>2333</td>\n",
       "      <td>2250</td>\n",
       "      <td>2015-11-01</td>\n",
       "      <td>Amaravathi</td>\n",
       "      <td>166</td>\n",
       "    </tr>\n",
       "    <tr>\n",
       "      <th>4</th>\n",
       "      <td>carrot</td>\n",
       "      <td>2015</td>\n",
       "      <td>December</td>\n",
       "      <td>788</td>\n",
       "      <td>1250</td>\n",
       "      <td>1450</td>\n",
       "      <td>1350</td>\n",
       "      <td>2015-12-01</td>\n",
       "      <td>Amaravathi</td>\n",
       "      <td>200</td>\n",
       "    </tr>\n",
       "    <tr>\n",
       "      <th>5</th>\n",
       "      <td>carrot</td>\n",
       "      <td>2016</td>\n",
       "      <td>January</td>\n",
       "      <td>3939</td>\n",
       "      <td>1100</td>\n",
       "      <td>1285</td>\n",
       "      <td>1193</td>\n",
       "      <td>2016-01-01</td>\n",
       "      <td>Amaravathi</td>\n",
       "      <td>185</td>\n",
       "    </tr>\n",
       "    <tr>\n",
       "      <th>6</th>\n",
       "      <td>carrot</td>\n",
       "      <td>2016</td>\n",
       "      <td>February</td>\n",
       "      <td>1208</td>\n",
       "      <td>576</td>\n",
       "      <td>694</td>\n",
       "      <td>635</td>\n",
       "      <td>2016-02-01</td>\n",
       "      <td>Amaravathi</td>\n",
       "      <td>118</td>\n",
       "    </tr>\n",
       "    <tr>\n",
       "      <th>7</th>\n",
       "      <td>carrot</td>\n",
       "      <td>2016</td>\n",
       "      <td>March</td>\n",
       "      <td>289</td>\n",
       "      <td>720</td>\n",
       "      <td>880</td>\n",
       "      <td>800</td>\n",
       "      <td>2016-03-01</td>\n",
       "      <td>Amaravathi</td>\n",
       "      <td>160</td>\n",
       "    </tr>\n",
       "    <tr>\n",
       "      <th>8</th>\n",
       "      <td>carrot</td>\n",
       "      <td>2016</td>\n",
       "      <td>April</td>\n",
       "      <td>235</td>\n",
       "      <td>1400</td>\n",
       "      <td>1575</td>\n",
       "      <td>1488</td>\n",
       "      <td>2016-04-01</td>\n",
       "      <td>Amaravathi</td>\n",
       "      <td>175</td>\n",
       "    </tr>\n",
       "    <tr>\n",
       "      <th>9</th>\n",
       "      <td>carrot</td>\n",
       "      <td>2016</td>\n",
       "      <td>May</td>\n",
       "      <td>380</td>\n",
       "      <td>1764</td>\n",
       "      <td>1964</td>\n",
       "      <td>1864</td>\n",
       "      <td>2016-05-01</td>\n",
       "      <td>Amaravathi</td>\n",
       "      <td>200</td>\n",
       "    </tr>\n",
       "    <tr>\n",
       "      <th>10</th>\n",
       "      <td>carrot</td>\n",
       "      <td>2016</td>\n",
       "      <td>June</td>\n",
       "      <td>155</td>\n",
       "      <td>2082</td>\n",
       "      <td>2282</td>\n",
       "      <td>2182</td>\n",
       "      <td>2016-06-01</td>\n",
       "      <td>Amaravathi</td>\n",
       "      <td>200</td>\n",
       "    </tr>\n",
       "    <tr>\n",
       "      <th>11</th>\n",
       "      <td>carrot</td>\n",
       "      <td>2016</td>\n",
       "      <td>July</td>\n",
       "      <td>43</td>\n",
       "      <td>2543</td>\n",
       "      <td>2757</td>\n",
       "      <td>2650</td>\n",
       "      <td>2016-07-01</td>\n",
       "      <td>Amaravathi</td>\n",
       "      <td>214</td>\n",
       "    </tr>\n",
       "    <tr>\n",
       "      <th>12</th>\n",
       "      <td>carrot</td>\n",
       "      <td>2016</td>\n",
       "      <td>August</td>\n",
       "      <td>141</td>\n",
       "      <td>2460</td>\n",
       "      <td>2720</td>\n",
       "      <td>2590</td>\n",
       "      <td>2016-08-01</td>\n",
       "      <td>Amaravathi</td>\n",
       "      <td>260</td>\n",
       "    </tr>\n",
       "    <tr>\n",
       "      <th>13</th>\n",
       "      <td>carrot</td>\n",
       "      <td>2016</td>\n",
       "      <td>September</td>\n",
       "      <td>102</td>\n",
       "      <td>2593</td>\n",
       "      <td>2847</td>\n",
       "      <td>2720</td>\n",
       "      <td>2016-09-01</td>\n",
       "      <td>Amaravathi</td>\n",
       "      <td>254</td>\n",
       "    </tr>\n",
       "    <tr>\n",
       "      <th>14</th>\n",
       "      <td>carrot</td>\n",
       "      <td>2016</td>\n",
       "      <td>October</td>\n",
       "      <td>94</td>\n",
       "      <td>2717</td>\n",
       "      <td>2908</td>\n",
       "      <td>2813</td>\n",
       "      <td>2016-10-01</td>\n",
       "      <td>Amaravathi</td>\n",
       "      <td>191</td>\n",
       "    </tr>\n",
       "  </tbody>\n",
       "</table>\n",
       "</div>"
      ],
      "text/plain": [
       "   Commodity  Year      Month  arrivals_in_qtl  min_price  max_price  \\\n",
       "0     carrot  2015     August                6       1350       1500   \n",
       "1     carrot  2015  September                9       2333       2533   \n",
       "2     carrot  2015    October               26       3986       4314   \n",
       "3     carrot  2015   November               17       2167       2333   \n",
       "4     carrot  2015   December              788       1250       1450   \n",
       "5     carrot  2016    January             3939       1100       1285   \n",
       "6     carrot  2016   February             1208        576        694   \n",
       "7     carrot  2016      March              289        720        880   \n",
       "8     carrot  2016      April              235       1400       1575   \n",
       "9     carrot  2016        May              380       1764       1964   \n",
       "10    carrot  2016       June              155       2082       2282   \n",
       "11    carrot  2016       July               43       2543       2757   \n",
       "12    carrot  2016     August              141       2460       2720   \n",
       "13    carrot  2016  September              102       2593       2847   \n",
       "14    carrot  2016    October               94       2717       2908   \n",
       "\n",
       "    modal_price       date district_name  diff_price  \n",
       "0          1420 2015-08-01    Amaravathi         150  \n",
       "1          2379 2015-09-01    Amaravathi         200  \n",
       "2          4088 2015-10-01    Amaravathi         328  \n",
       "3          2250 2015-11-01    Amaravathi         166  \n",
       "4          1350 2015-12-01    Amaravathi         200  \n",
       "5          1193 2016-01-01    Amaravathi         185  \n",
       "6           635 2016-02-01    Amaravathi         118  \n",
       "7           800 2016-03-01    Amaravathi         160  \n",
       "8          1488 2016-04-01    Amaravathi         175  \n",
       "9          1864 2016-05-01    Amaravathi         200  \n",
       "10         2182 2016-06-01    Amaravathi         200  \n",
       "11         2650 2016-07-01    Amaravathi         214  \n",
       "12         2590 2016-08-01    Amaravathi         260  \n",
       "13         2720 2016-09-01    Amaravathi         254  \n",
       "14         2813 2016-10-01    Amaravathi         191  "
      ]
     },
     "execution_count": 23,
     "metadata": {},
     "output_type": "execute_result"
    }
   ],
   "source": [
    "# check the file\n",
    "read_file(random_file_1)"
   ]
  },
  {
   "cell_type": "markdown",
   "metadata": {},
   "source": [
    "##### Function - 3\n",
    "* <b>uniq_dist(filename): </b>Tells which unique valies are present inside the 'district_name' attributes."
   ]
  },
  {
   "cell_type": "markdown",
   "metadata": {},
   "source": [
    "#### 2.3 min_price and max_price"
   ]
  },
  {
   "cell_type": "markdown",
   "metadata": {},
   "source": [
    "Let's check out min_price attribute and create a function that can tell us about the entities that are having min_price equals to zero."
   ]
  },
  {
   "cell_type": "code",
   "execution_count": 24,
   "metadata": {
    "collapsed": true
   },
   "outputs": [],
   "source": [
    "# function min_price equals to zero\n",
    "def min_price_zero(filename: str):\n",
    "    apmc_comm = read_file(filename)\n",
    "    result = apmc_comm[apmc_comm['min_price'] == 0]\n",
    "    if (len(result) == 0):\n",
    "        print(\"No entity having min_price equals to zero.\")\n",
    "    else:\n",
    "        return (result)"
   ]
  },
  {
   "cell_type": "markdown",
   "metadata": {},
   "source": [
    "The function is successfully created and now let's check out some dataset."
   ]
  },
  {
   "cell_type": "code",
   "execution_count": 26,
   "metadata": {},
   "outputs": [
    {
     "data": {
      "text/plain": [
       "'Kinwat_ground nut pods (dry).csv'"
      ]
     },
     "execution_count": 26,
     "metadata": {},
     "output_type": "execute_result"
    }
   ],
   "source": [
    "# choose a random file\n",
    "random_file_2 = file_names[random.randint(0, len(file_names))]\n",
    "random_file_2"
   ]
  },
  {
   "cell_type": "code",
   "execution_count": 27,
   "metadata": {},
   "outputs": [
    {
     "name": "stdout",
     "output_type": "stream",
     "text": [
      "No entity having min_price equals to zero.\n"
     ]
    }
   ],
   "source": [
    "# check out file having APMC -> Kinwat and Commodity -> ground nut pods (dry)\n",
    "min_price_zero(random_file_2)"
   ]
  },
  {
   "cell_type": "code",
   "execution_count": 28,
   "metadata": {},
   "outputs": [
    {
     "data": {
      "text/html": [
       "<div>\n",
       "<style scoped>\n",
       "    .dataframe tbody tr th:only-of-type {\n",
       "        vertical-align: middle;\n",
       "    }\n",
       "\n",
       "    .dataframe tbody tr th {\n",
       "        vertical-align: top;\n",
       "    }\n",
       "\n",
       "    .dataframe thead th {\n",
       "        text-align: right;\n",
       "    }\n",
       "</style>\n",
       "<table border=\"1\" class=\"dataframe\">\n",
       "  <thead>\n",
       "    <tr style=\"text-align: right;\">\n",
       "      <th></th>\n",
       "      <th>Commodity</th>\n",
       "      <th>Year</th>\n",
       "      <th>Month</th>\n",
       "      <th>arrivals_in_qtl</th>\n",
       "      <th>min_price</th>\n",
       "      <th>max_price</th>\n",
       "      <th>modal_price</th>\n",
       "      <th>date</th>\n",
       "      <th>district_name</th>\n",
       "      <th>diff_price</th>\n",
       "    </tr>\n",
       "  </thead>\n",
       "  <tbody>\n",
       "    <tr>\n",
       "      <th>0</th>\n",
       "      <td>ground nut pods (dry)</td>\n",
       "      <td>2014</td>\n",
       "      <td>September</td>\n",
       "      <td>80</td>\n",
       "      <td>3400</td>\n",
       "      <td>3500</td>\n",
       "      <td>3450</td>\n",
       "      <td>2014-09-01</td>\n",
       "      <td>Nanded</td>\n",
       "      <td>100</td>\n",
       "    </tr>\n",
       "    <tr>\n",
       "      <th>1</th>\n",
       "      <td>ground nut pods (dry)</td>\n",
       "      <td>2015</td>\n",
       "      <td>May</td>\n",
       "      <td>620</td>\n",
       "      <td>4543</td>\n",
       "      <td>4700</td>\n",
       "      <td>4621</td>\n",
       "      <td>2015-05-01</td>\n",
       "      <td>Nanded</td>\n",
       "      <td>157</td>\n",
       "    </tr>\n",
       "    <tr>\n",
       "      <th>2</th>\n",
       "      <td>ground nut pods (dry)</td>\n",
       "      <td>2015</td>\n",
       "      <td>June</td>\n",
       "      <td>219</td>\n",
       "      <td>4867</td>\n",
       "      <td>5067</td>\n",
       "      <td>4967</td>\n",
       "      <td>2015-06-01</td>\n",
       "      <td>Nanded</td>\n",
       "      <td>200</td>\n",
       "    </tr>\n",
       "    <tr>\n",
       "      <th>3</th>\n",
       "      <td>ground nut pods (dry)</td>\n",
       "      <td>2015</td>\n",
       "      <td>July</td>\n",
       "      <td>270</td>\n",
       "      <td>4940</td>\n",
       "      <td>5100</td>\n",
       "      <td>5020</td>\n",
       "      <td>2015-07-01</td>\n",
       "      <td>Nanded</td>\n",
       "      <td>160</td>\n",
       "    </tr>\n",
       "    <tr>\n",
       "      <th>4</th>\n",
       "      <td>ground nut pods (dry)</td>\n",
       "      <td>2015</td>\n",
       "      <td>August</td>\n",
       "      <td>40</td>\n",
       "      <td>4900</td>\n",
       "      <td>5100</td>\n",
       "      <td>5000</td>\n",
       "      <td>2015-08-01</td>\n",
       "      <td>Nanded</td>\n",
       "      <td>200</td>\n",
       "    </tr>\n",
       "    <tr>\n",
       "      <th>5</th>\n",
       "      <td>ground nut pods (dry)</td>\n",
       "      <td>2015</td>\n",
       "      <td>September</td>\n",
       "      <td>31</td>\n",
       "      <td>4500</td>\n",
       "      <td>4700</td>\n",
       "      <td>4600</td>\n",
       "      <td>2015-09-01</td>\n",
       "      <td>Nanded</td>\n",
       "      <td>200</td>\n",
       "    </tr>\n",
       "    <tr>\n",
       "      <th>6</th>\n",
       "      <td>ground nut pods (dry)</td>\n",
       "      <td>2016</td>\n",
       "      <td>April</td>\n",
       "      <td>44</td>\n",
       "      <td>4700</td>\n",
       "      <td>4800</td>\n",
       "      <td>4750</td>\n",
       "      <td>2016-04-01</td>\n",
       "      <td>Nanded</td>\n",
       "      <td>100</td>\n",
       "    </tr>\n",
       "    <tr>\n",
       "      <th>7</th>\n",
       "      <td>ground nut pods (dry)</td>\n",
       "      <td>2016</td>\n",
       "      <td>May</td>\n",
       "      <td>2800</td>\n",
       "      <td>4876</td>\n",
       "      <td>5124</td>\n",
       "      <td>4985</td>\n",
       "      <td>2016-05-01</td>\n",
       "      <td>Nanded</td>\n",
       "      <td>248</td>\n",
       "    </tr>\n",
       "    <tr>\n",
       "      <th>8</th>\n",
       "      <td>ground nut pods (dry)</td>\n",
       "      <td>2016</td>\n",
       "      <td>June</td>\n",
       "      <td>1153</td>\n",
       "      <td>4922</td>\n",
       "      <td>5122</td>\n",
       "      <td>5022</td>\n",
       "      <td>2016-06-01</td>\n",
       "      <td>Nanded</td>\n",
       "      <td>200</td>\n",
       "    </tr>\n",
       "    <tr>\n",
       "      <th>9</th>\n",
       "      <td>ground nut pods (dry)</td>\n",
       "      <td>2016</td>\n",
       "      <td>July</td>\n",
       "      <td>501</td>\n",
       "      <td>5500</td>\n",
       "      <td>5733</td>\n",
       "      <td>5625</td>\n",
       "      <td>2016-07-01</td>\n",
       "      <td>Nanded</td>\n",
       "      <td>233</td>\n",
       "    </tr>\n",
       "    <tr>\n",
       "      <th>10</th>\n",
       "      <td>ground nut pods (dry)</td>\n",
       "      <td>2016</td>\n",
       "      <td>August</td>\n",
       "      <td>68</td>\n",
       "      <td>5000</td>\n",
       "      <td>5200</td>\n",
       "      <td>5100</td>\n",
       "      <td>2016-08-01</td>\n",
       "      <td>Nanded</td>\n",
       "      <td>200</td>\n",
       "    </tr>\n",
       "    <tr>\n",
       "      <th>11</th>\n",
       "      <td>ground nut pods (dry)</td>\n",
       "      <td>2016</td>\n",
       "      <td>September</td>\n",
       "      <td>391</td>\n",
       "      <td>5200</td>\n",
       "      <td>5500</td>\n",
       "      <td>5350</td>\n",
       "      <td>2016-09-01</td>\n",
       "      <td>Nanded</td>\n",
       "      <td>300</td>\n",
       "    </tr>\n",
       "  </tbody>\n",
       "</table>\n",
       "</div>"
      ],
      "text/plain": [
       "                Commodity  Year      Month  arrivals_in_qtl  min_price  \\\n",
       "0   ground nut pods (dry)  2014  September               80       3400   \n",
       "1   ground nut pods (dry)  2015        May              620       4543   \n",
       "2   ground nut pods (dry)  2015       June              219       4867   \n",
       "3   ground nut pods (dry)  2015       July              270       4940   \n",
       "4   ground nut pods (dry)  2015     August               40       4900   \n",
       "5   ground nut pods (dry)  2015  September               31       4500   \n",
       "6   ground nut pods (dry)  2016      April               44       4700   \n",
       "7   ground nut pods (dry)  2016        May             2800       4876   \n",
       "8   ground nut pods (dry)  2016       June             1153       4922   \n",
       "9   ground nut pods (dry)  2016       July              501       5500   \n",
       "10  ground nut pods (dry)  2016     August               68       5000   \n",
       "11  ground nut pods (dry)  2016  September              391       5200   \n",
       "\n",
       "    max_price  modal_price       date district_name  diff_price  \n",
       "0        3500         3450 2014-09-01        Nanded         100  \n",
       "1        4700         4621 2015-05-01        Nanded         157  \n",
       "2        5067         4967 2015-06-01        Nanded         200  \n",
       "3        5100         5020 2015-07-01        Nanded         160  \n",
       "4        5100         5000 2015-08-01        Nanded         200  \n",
       "5        4700         4600 2015-09-01        Nanded         200  \n",
       "6        4800         4750 2016-04-01        Nanded         100  \n",
       "7        5124         4985 2016-05-01        Nanded         248  \n",
       "8        5122         5022 2016-06-01        Nanded         200  \n",
       "9        5733         5625 2016-07-01        Nanded         233  \n",
       "10       5200         5100 2016-08-01        Nanded         200  \n",
       "11       5500         5350 2016-09-01        Nanded         300  "
      ]
     },
     "execution_count": 28,
     "metadata": {},
     "output_type": "execute_result"
    }
   ],
   "source": [
    "# check whole dataset\n",
    "read_file(random_file_2)"
   ]
  },
  {
   "cell_type": "markdown",
   "metadata": {},
   "source": [
    "Let's create another function that tell us about the entity for which min_price is very low and max_price is high for a partiular dataset."
   ]
  },
  {
   "cell_type": "code",
   "execution_count": 29,
   "metadata": {
    "collapsed": true
   },
   "outputs": [],
   "source": [
    "# entity for which min_price is low in the dataset\n",
    "def low_min_price(filename: str):\n",
    "    apmc_comm = read_file(filename)\n",
    "    low_val = apmc_comm['min_price'].min()\n",
    "    result = apmc_comm[apmc_comm['min_price'] == low_val]\n",
    "    return result\n",
    "\n",
    "# entity for which max_price is high in the dataset\n",
    "def high_min_price(filename: str):\n",
    "    apmc_comm = read_file(filename)\n",
    "    high_val = apmc_comm['max_price'].max()\n",
    "    result = apmc_comm[apmc_comm['max_price'] == high_val]\n",
    "    return result"
   ]
  },
  {
   "cell_type": "code",
   "execution_count": 30,
   "metadata": {},
   "outputs": [
    {
     "data": {
      "text/html": [
       "<div>\n",
       "<style scoped>\n",
       "    .dataframe tbody tr th:only-of-type {\n",
       "        vertical-align: middle;\n",
       "    }\n",
       "\n",
       "    .dataframe tbody tr th {\n",
       "        vertical-align: top;\n",
       "    }\n",
       "\n",
       "    .dataframe thead th {\n",
       "        text-align: right;\n",
       "    }\n",
       "</style>\n",
       "<table border=\"1\" class=\"dataframe\">\n",
       "  <thead>\n",
       "    <tr style=\"text-align: right;\">\n",
       "      <th></th>\n",
       "      <th>Commodity</th>\n",
       "      <th>Year</th>\n",
       "      <th>Month</th>\n",
       "      <th>arrivals_in_qtl</th>\n",
       "      <th>min_price</th>\n",
       "      <th>max_price</th>\n",
       "      <th>modal_price</th>\n",
       "      <th>date</th>\n",
       "      <th>district_name</th>\n",
       "      <th>diff_price</th>\n",
       "    </tr>\n",
       "  </thead>\n",
       "  <tbody>\n",
       "    <tr>\n",
       "      <th>0</th>\n",
       "      <td>ground nut pods (dry)</td>\n",
       "      <td>2014</td>\n",
       "      <td>September</td>\n",
       "      <td>80</td>\n",
       "      <td>3400</td>\n",
       "      <td>3500</td>\n",
       "      <td>3450</td>\n",
       "      <td>2014-09-01</td>\n",
       "      <td>Nanded</td>\n",
       "      <td>100</td>\n",
       "    </tr>\n",
       "  </tbody>\n",
       "</table>\n",
       "</div>"
      ],
      "text/plain": [
       "               Commodity  Year      Month  arrivals_in_qtl  min_price  \\\n",
       "0  ground nut pods (dry)  2014  September               80       3400   \n",
       "\n",
       "   max_price  modal_price       date district_name  diff_price  \n",
       "0       3500         3450 2014-09-01        Nanded         100  "
      ]
     },
     "execution_count": 30,
     "metadata": {},
     "output_type": "execute_result"
    }
   ],
   "source": [
    "# Test above function\n",
    "low_min_price(random_file_2)"
   ]
  },
  {
   "cell_type": "markdown",
   "metadata": {},
   "source": [
    "<b>Conclusion: </b>'Kinwat' APMC and 'ground nut pods (dry)' commodity is having the price of the commodity minimum during the month of September (2014). "
   ]
  },
  {
   "cell_type": "code",
   "execution_count": 31,
   "metadata": {},
   "outputs": [
    {
     "data": {
      "text/html": [
       "<div>\n",
       "<style scoped>\n",
       "    .dataframe tbody tr th:only-of-type {\n",
       "        vertical-align: middle;\n",
       "    }\n",
       "\n",
       "    .dataframe tbody tr th {\n",
       "        vertical-align: top;\n",
       "    }\n",
       "\n",
       "    .dataframe thead th {\n",
       "        text-align: right;\n",
       "    }\n",
       "</style>\n",
       "<table border=\"1\" class=\"dataframe\">\n",
       "  <thead>\n",
       "    <tr style=\"text-align: right;\">\n",
       "      <th></th>\n",
       "      <th>Commodity</th>\n",
       "      <th>Year</th>\n",
       "      <th>Month</th>\n",
       "      <th>arrivals_in_qtl</th>\n",
       "      <th>min_price</th>\n",
       "      <th>max_price</th>\n",
       "      <th>modal_price</th>\n",
       "      <th>date</th>\n",
       "      <th>district_name</th>\n",
       "      <th>diff_price</th>\n",
       "    </tr>\n",
       "  </thead>\n",
       "  <tbody>\n",
       "    <tr>\n",
       "      <th>9</th>\n",
       "      <td>ground nut pods (dry)</td>\n",
       "      <td>2016</td>\n",
       "      <td>July</td>\n",
       "      <td>501</td>\n",
       "      <td>5500</td>\n",
       "      <td>5733</td>\n",
       "      <td>5625</td>\n",
       "      <td>2016-07-01</td>\n",
       "      <td>Nanded</td>\n",
       "      <td>233</td>\n",
       "    </tr>\n",
       "  </tbody>\n",
       "</table>\n",
       "</div>"
      ],
      "text/plain": [
       "               Commodity  Year Month  arrivals_in_qtl  min_price  max_price  \\\n",
       "9  ground nut pods (dry)  2016  July              501       5500       5733   \n",
       "\n",
       "   modal_price       date district_name  diff_price  \n",
       "9         5625 2016-07-01        Nanded         233  "
      ]
     },
     "execution_count": 31,
     "metadata": {},
     "output_type": "execute_result"
    }
   ],
   "source": [
    "high_min_price(random_file_2)"
   ]
  },
  {
   "cell_type": "markdown",
   "metadata": {},
   "source": [
    "<b>Conclusion: </b>'Kinwat' APMC and 'ground nut pods (dry)' commodity is having the price of the commodity maximum during the month of July (2016)."
   ]
  },
  {
   "cell_type": "markdown",
   "metadata": {},
   "source": [
    "##### Function - 4:\n",
    "* <b>min_price_zero(filename): </b>entities for which min_price equals to zero\n",
    "\n",
    "##### Function - 5:\n",
    "* <b>low_min_price(filename): </b>time when the price of commodity is least.\n",
    "\n",
    "##### Function - 6:\n",
    "* <b>high_max_price(filename): </b>time when the price of commodity is most."
   ]
  },
  {
   "cell_type": "markdown",
   "metadata": {},
   "source": [
    "<b>We have created basic functions. Now let's create function that show us more complex results.<b>"
   ]
  },
  {
   "cell_type": "markdown",
   "metadata": {},
   "source": [
    "#### 3. Highest price fluctuation across different commodities in each relevant season, and year."
   ]
  },
  {
   "cell_type": "markdown",
   "metadata": {},
   "source": [
    "Let's create a function that tell us the highest value of a particular commodity goes in different seasons and year."
   ]
  },
  {
   "cell_type": "code",
   "execution_count": 33,
   "metadata": {
    "collapsed": true
   },
   "outputs": [],
   "source": [
    "# Year wise max price\n",
    "def yearly_max_values(filename: str) -> dict:\n",
    "    maxprice = []\n",
    "    apmc_comm = read_file(filename)\n",
    "    uniq_year = apmc_comm['Year'].unique().tolist()\n",
    "    for year in uniq_year:\n",
    "        year_comm = apmc_comm[apmc_comm['Year'] == year]\n",
    "        max_val = year_comm['max_price'].max()\n",
    "        maxprice.append((year, max_val))\n",
    "    return dict(maxprice)"
   ]
  },
  {
   "cell_type": "markdown",
   "metadata": {},
   "source": [
    "The function is created successfully. Let's test it out."
   ]
  },
  {
   "cell_type": "code",
   "execution_count": 35,
   "metadata": {},
   "outputs": [
    {
     "data": {
      "text/plain": [
       "'Vadgaon Peth_spinach.csv'"
      ]
     },
     "execution_count": 35,
     "metadata": {},
     "output_type": "execute_result"
    }
   ],
   "source": [
    "# choose a random dataset\n",
    "random_file_3 = file_names[random.randint(0, len(file_names))]\n",
    "random_file_3"
   ]
  },
  {
   "cell_type": "code",
   "execution_count": 36,
   "metadata": {},
   "outputs": [
    {
     "data": {
      "text/plain": [
       "{2014: 5, 2015: 3, 2016: 10}"
      ]
     },
     "execution_count": 36,
     "metadata": {},
     "output_type": "execute_result"
    }
   ],
   "source": [
    "# APMC -> Vadgaon Peth and Commodity -> spinach\n",
    "# check the maximum value of price goes yearly\n",
    "yearly_max_values(random_file_3)"
   ]
  },
  {
   "cell_type": "markdown",
   "metadata": {},
   "source": [
    "<b>Conclusion: The above result shows us that the maximum price of spinach commodity in 2014 goes to 5, in 2015 goes to 3, and in 2016 goes to 10.</b>"
   ]
  },
  {
   "cell_type": "code",
   "execution_count": 38,
   "metadata": {},
   "outputs": [
    {
     "data": {
      "text/html": [
       "<div>\n",
       "<style scoped>\n",
       "    .dataframe tbody tr th:only-of-type {\n",
       "        vertical-align: middle;\n",
       "    }\n",
       "\n",
       "    .dataframe tbody tr th {\n",
       "        vertical-align: top;\n",
       "    }\n",
       "\n",
       "    .dataframe thead th {\n",
       "        text-align: right;\n",
       "    }\n",
       "</style>\n",
       "<table border=\"1\" class=\"dataframe\">\n",
       "  <thead>\n",
       "    <tr style=\"text-align: right;\">\n",
       "      <th></th>\n",
       "      <th>Commodity</th>\n",
       "      <th>Year</th>\n",
       "      <th>Month</th>\n",
       "      <th>arrivals_in_qtl</th>\n",
       "      <th>min_price</th>\n",
       "      <th>max_price</th>\n",
       "      <th>modal_price</th>\n",
       "      <th>date</th>\n",
       "      <th>district_name</th>\n",
       "      <th>diff_price</th>\n",
       "    </tr>\n",
       "  </thead>\n",
       "  <tbody>\n",
       "    <tr>\n",
       "      <th>0</th>\n",
       "      <td>spinach</td>\n",
       "      <td>2014</td>\n",
       "      <td>October</td>\n",
       "      <td>700</td>\n",
       "      <td>2</td>\n",
       "      <td>4</td>\n",
       "      <td>3</td>\n",
       "      <td>2014-10-01</td>\n",
       "      <td>Kolhapur</td>\n",
       "      <td>2</td>\n",
       "    </tr>\n",
       "    <tr>\n",
       "      <th>1</th>\n",
       "      <td>spinach</td>\n",
       "      <td>2014</td>\n",
       "      <td>December</td>\n",
       "      <td>800</td>\n",
       "      <td>2</td>\n",
       "      <td>5</td>\n",
       "      <td>4</td>\n",
       "      <td>2014-12-01</td>\n",
       "      <td>Kolhapur</td>\n",
       "      <td>3</td>\n",
       "    </tr>\n",
       "    <tr>\n",
       "      <th>2</th>\n",
       "      <td>spinach</td>\n",
       "      <td>2015</td>\n",
       "      <td>January</td>\n",
       "      <td>350</td>\n",
       "      <td>1</td>\n",
       "      <td>3</td>\n",
       "      <td>2</td>\n",
       "      <td>2015-01-01</td>\n",
       "      <td>Kolhapur</td>\n",
       "      <td>2</td>\n",
       "    </tr>\n",
       "    <tr>\n",
       "      <th>3</th>\n",
       "      <td>spinach</td>\n",
       "      <td>2015</td>\n",
       "      <td>June</td>\n",
       "      <td>550</td>\n",
       "      <td>1</td>\n",
       "      <td>3</td>\n",
       "      <td>2</td>\n",
       "      <td>2015-06-01</td>\n",
       "      <td>Kolhapur</td>\n",
       "      <td>2</td>\n",
       "    </tr>\n",
       "    <tr>\n",
       "      <th>4</th>\n",
       "      <td>spinach</td>\n",
       "      <td>2015</td>\n",
       "      <td>July</td>\n",
       "      <td>400</td>\n",
       "      <td>2</td>\n",
       "      <td>3</td>\n",
       "      <td>2</td>\n",
       "      <td>2015-07-01</td>\n",
       "      <td>Kolhapur</td>\n",
       "      <td>1</td>\n",
       "    </tr>\n",
       "    <tr>\n",
       "      <th>5</th>\n",
       "      <td>spinach</td>\n",
       "      <td>2016</td>\n",
       "      <td>February</td>\n",
       "      <td>600</td>\n",
       "      <td>1</td>\n",
       "      <td>3</td>\n",
       "      <td>2</td>\n",
       "      <td>2016-02-01</td>\n",
       "      <td>Kolhapur</td>\n",
       "      <td>2</td>\n",
       "    </tr>\n",
       "    <tr>\n",
       "      <th>6</th>\n",
       "      <td>spinach</td>\n",
       "      <td>2016</td>\n",
       "      <td>June</td>\n",
       "      <td>600</td>\n",
       "      <td>5</td>\n",
       "      <td>10</td>\n",
       "      <td>8</td>\n",
       "      <td>2016-06-01</td>\n",
       "      <td>Kolhapur</td>\n",
       "      <td>5</td>\n",
       "    </tr>\n",
       "    <tr>\n",
       "      <th>7</th>\n",
       "      <td>spinach</td>\n",
       "      <td>2016</td>\n",
       "      <td>August</td>\n",
       "      <td>800</td>\n",
       "      <td>2</td>\n",
       "      <td>5</td>\n",
       "      <td>4</td>\n",
       "      <td>2016-08-01</td>\n",
       "      <td>Kolhapur</td>\n",
       "      <td>3</td>\n",
       "    </tr>\n",
       "  </tbody>\n",
       "</table>\n",
       "</div>"
      ],
      "text/plain": [
       "  Commodity  Year     Month  arrivals_in_qtl  min_price  max_price  \\\n",
       "0   spinach  2014   October              700          2          4   \n",
       "1   spinach  2014  December              800          2          5   \n",
       "2   spinach  2015   January              350          1          3   \n",
       "3   spinach  2015      June              550          1          3   \n",
       "4   spinach  2015      July              400          2          3   \n",
       "5   spinach  2016  February              600          1          3   \n",
       "6   spinach  2016      June              600          5         10   \n",
       "7   spinach  2016    August              800          2          5   \n",
       "\n",
       "   modal_price       date district_name  diff_price  \n",
       "0            3 2014-10-01      Kolhapur           2  \n",
       "1            4 2014-12-01      Kolhapur           3  \n",
       "2            2 2015-01-01      Kolhapur           2  \n",
       "3            2 2015-06-01      Kolhapur           2  \n",
       "4            2 2015-07-01      Kolhapur           1  \n",
       "5            2 2016-02-01      Kolhapur           2  \n",
       "6            8 2016-06-01      Kolhapur           5  \n",
       "7            4 2016-08-01      Kolhapur           3  "
      ]
     },
     "execution_count": 38,
     "metadata": {},
     "output_type": "execute_result"
    }
   ],
   "source": [
    "read_file(random_file_3)"
   ]
  },
  {
   "cell_type": "markdown",
   "metadata": {},
   "source": [
    "Verified"
   ]
  },
  {
   "cell_type": "code",
   "execution_count": 39,
   "metadata": {
    "collapsed": true
   },
   "outputs": [],
   "source": [
    "# Let's create lists of months in different seasons\n",
    "spring = ['March', 'April', 'May']\n",
    "summer = ['June', 'July', 'August']\n",
    "autumn = ['September', 'October', 'November']\n",
    "winter = ['December', 'January', 'February']"
   ]
  },
  {
   "cell_type": "code",
   "execution_count": 40,
   "metadata": {
    "collapsed": true
   },
   "outputs": [],
   "source": [
    "# seasonal max price \n",
    "def seasonal_values(filename: str):\n",
    "    maxprice = []\n",
    "    apmc_comm = read_file(filename)\n",
    "    uniq_month = apmc_comm['Month'].unique().tolist()\n",
    "    for month in uniq_month:\n",
    "        if month in spring:\n",
    "            spring_max = apmc_comm[apmc_comm['Month'] == month]\n",
    "            max_val = spring_max['max_price'].max()\n",
    "            maxprice.append(('spring', max_val))\n",
    "        elif month in summer:\n",
    "            summer_max = apmc_comm[apmc_comm['Month'] == month]\n",
    "            max_val = summer_max['max_price'].max()\n",
    "            maxprice.append(('summer', max_val))\n",
    "        elif month in autumn:\n",
    "            autumn_max = apmc_comm[apmc_comm['Month'] == month]\n",
    "            max_val = autumn_max['max_price'].max()\n",
    "            maxprice.append(('autumn', max_val))\n",
    "        else:\n",
    "            winter_max = apmc_comm[apmc_comm['Month'] == month]\n",
    "            max_val = winter_max['max_price'].max()\n",
    "            maxprice.append(('winter', max_val))\n",
    "    return maxprice"
   ]
  },
  {
   "cell_type": "code",
   "execution_count": 41,
   "metadata": {
    "collapsed": true
   },
   "outputs": [],
   "source": [
    "def seasonal_max_values(filename: str) -> dict:\n",
    "    val = seasonal_values(filename)\n",
    "    d = {}\n",
    "    for ele in sorted(val, key = lambda x: x[1]):\n",
    "        d[ele[0]] = ele[1]\n",
    "    return d\n",
    "    "
   ]
  },
  {
   "cell_type": "markdown",
   "metadata": {},
   "source": [
    "The function is created successfully. Let's check it out on random dataset."
   ]
  },
  {
   "cell_type": "code",
   "execution_count": 45,
   "metadata": {},
   "outputs": [
    {
     "data": {
      "text/plain": [
       "'Vaijapur_thymol-lovage.csv'"
      ]
     },
     "execution_count": 45,
     "metadata": {},
     "output_type": "execute_result"
    }
   ],
   "source": [
    "random_file_4 = file_names[random.randint(0, len(file_names))]\n",
    "random_file_4"
   ]
  },
  {
   "cell_type": "code",
   "execution_count": 48,
   "metadata": {},
   "outputs": [
    {
     "data": {
      "text/plain": [
       "{'autumn': 10000, 'summer': 12001, 'winter': 5500}"
      ]
     },
     "execution_count": 48,
     "metadata": {},
     "output_type": "execute_result"
    }
   ],
   "source": [
    "# max price of APMC -> Vaijapur and Commodity -> thymol-lovage seasonally\n",
    "seasonal_max_values(random_file_4)"
   ]
  },
  {
   "cell_type": "code",
   "execution_count": 49,
   "metadata": {},
   "outputs": [
    {
     "data": {
      "text/html": [
       "<div>\n",
       "<style scoped>\n",
       "    .dataframe tbody tr th:only-of-type {\n",
       "        vertical-align: middle;\n",
       "    }\n",
       "\n",
       "    .dataframe tbody tr th {\n",
       "        vertical-align: top;\n",
       "    }\n",
       "\n",
       "    .dataframe thead th {\n",
       "        text-align: right;\n",
       "    }\n",
       "</style>\n",
       "<table border=\"1\" class=\"dataframe\">\n",
       "  <thead>\n",
       "    <tr style=\"text-align: right;\">\n",
       "      <th></th>\n",
       "      <th>Commodity</th>\n",
       "      <th>Year</th>\n",
       "      <th>Month</th>\n",
       "      <th>arrivals_in_qtl</th>\n",
       "      <th>min_price</th>\n",
       "      <th>max_price</th>\n",
       "      <th>modal_price</th>\n",
       "      <th>date</th>\n",
       "      <th>district_name</th>\n",
       "      <th>diff_price</th>\n",
       "    </tr>\n",
       "  </thead>\n",
       "  <tbody>\n",
       "    <tr>\n",
       "      <th>0</th>\n",
       "      <td>thymol-lovage</td>\n",
       "      <td>2015</td>\n",
       "      <td>December</td>\n",
       "      <td>1</td>\n",
       "      <td>5500</td>\n",
       "      <td>5500</td>\n",
       "      <td>5500</td>\n",
       "      <td>2015-12-01</td>\n",
       "      <td>Aurangabad</td>\n",
       "      <td>0</td>\n",
       "    </tr>\n",
       "    <tr>\n",
       "      <th>1</th>\n",
       "      <td>thymol-lovage</td>\n",
       "      <td>2016</td>\n",
       "      <td>August</td>\n",
       "      <td>1</td>\n",
       "      <td>12001</td>\n",
       "      <td>12001</td>\n",
       "      <td>12001</td>\n",
       "      <td>2016-08-01</td>\n",
       "      <td>Aurangabad</td>\n",
       "      <td>0</td>\n",
       "    </tr>\n",
       "    <tr>\n",
       "      <th>2</th>\n",
       "      <td>thymol-lovage</td>\n",
       "      <td>2016</td>\n",
       "      <td>September</td>\n",
       "      <td>1</td>\n",
       "      <td>10000</td>\n",
       "      <td>10000</td>\n",
       "      <td>10000</td>\n",
       "      <td>2016-09-01</td>\n",
       "      <td>Aurangabad</td>\n",
       "      <td>0</td>\n",
       "    </tr>\n",
       "  </tbody>\n",
       "</table>\n",
       "</div>"
      ],
      "text/plain": [
       "       Commodity  Year      Month  arrivals_in_qtl  min_price  max_price  \\\n",
       "0  thymol-lovage  2015   December                1       5500       5500   \n",
       "1  thymol-lovage  2016     August                1      12001      12001   \n",
       "2  thymol-lovage  2016  September                1      10000      10000   \n",
       "\n",
       "   modal_price       date district_name  diff_price  \n",
       "0         5500 2015-12-01    Aurangabad           0  \n",
       "1        12001 2016-08-01    Aurangabad           0  \n",
       "2        10000 2016-09-01    Aurangabad           0  "
      ]
     },
     "execution_count": 49,
     "metadata": {},
     "output_type": "execute_result"
    }
   ],
   "source": [
    "read_file(random_file_4)"
   ]
  },
  {
   "cell_type": "markdown",
   "metadata": {},
   "source": [
    "<b>Conclusion: The result shows us that the maximum price of commodity during autumn is 10000, during summer is 12001, and during winter is 5500.</b> "
   ]
  },
  {
   "cell_type": "markdown",
   "metadata": {},
   "source": [
    "Now, the function is created that can tell us the maximum price goes across different commodities  in each relevant season, and year."
   ]
  },
  {
   "cell_type": "markdown",
   "metadata": {},
   "source": [
    "##### Function - 7\n",
    "* <b>yearly_max_values(filename): </b>maximum price of a commodity each year.\n",
    "    \n",
    "##### Function - 8 \n",
    "* <b>seasonal_max_values(filename): </b>maximum price of a commodity each season."
   ]
  },
  {
   "cell_type": "markdown",
   "metadata": {},
   "source": [
    "#### 4. Seasonality and Trend in modal_price"
   ]
  },
  {
   "cell_type": "markdown",
   "metadata": {},
   "source": [
    "Let's detect the seasonality and trend in modal_price of different commodities. "
   ]
  },
  {
   "cell_type": "code",
   "execution_count": 50,
   "metadata": {
    "collapsed": true
   },
   "outputs": [],
   "source": [
    "# Identifying trends in modal_price of different commodities\n",
    "def modal_price_trend(filename: str):\n",
    "    apmc_comm = read_file(filename)\n",
    "    apmc_comm.set_index('date', inplace = True)\n",
    "    modal_pr = apmc_comm[['modal_price']]\n",
    "    modal_pr.rolling(2).mean().plot(figsize=(20,10), linewidth=5, fontsize=20)\n",
    "   "
   ]
  },
  {
   "cell_type": "code",
   "execution_count": 51,
   "metadata": {},
   "outputs": [
    {
     "data": {
      "image/png": "[encoded data removed]",
      "text/plain": [
       "<matplotlib.figure.Figure at 0x1de24947128>"
      ]
     },
     "metadata": {
      "image/png": {
       "height": 623,
       "width": 1190
      }
     },
     "output_type": "display_data"
    }
   ],
   "source": [
    "modal_price_trend('Kolhapur_strawberi.csv')"
   ]
  },
  {
   "cell_type": "markdown",
   "metadata": {},
   "source": [
    "<b>Conclusion: </b>Downward trend can be seen."
   ]
  },
  {
   "cell_type": "code",
   "execution_count": 52,
   "metadata": {
    "collapsed": true
   },
   "outputs": [],
   "source": [
    "\n",
    "\n",
    "def seasonal_decomposed_modal_price(filename: str, freq: int, model_name: str):\n",
    "    apmc_commodity = read_file(filename)\n",
    "    apmc_commodity.set_index('date', inplace = True)\n",
    "    result = seasonal_decompose(apmc_commodity['modal_price'], freq = freq, model = model_name)\n",
    "    print(\"Observed:\\n \", result.observed)\n",
    "    print(\"Trend:\\n \", result.trend)\n",
    "    print(\"Seasonal:\\n \", result.seasonal)\n",
    "    print(\"Resid:\\n \", result.resid)\n",
    "    result.plot()\n",
    "    "
   ]
  },
  {
   "cell_type": "code",
   "execution_count": 53,
   "metadata": {},
   "outputs": [
    {
     "name": "stdout",
     "output_type": "stream",
     "text": [
      "Observed:\n",
      "  date\n",
      "2015-10-01    1583\n",
      "2015-11-01    1500\n",
      "2015-12-01    1081\n",
      "2016-01-01     965\n",
      "2016-02-01     825\n",
      "2016-03-01     725\n",
      "Name: modal_price, dtype: int64\n",
      "Trend:\n",
      "  date\n",
      "2015-10-01   1583.00000\n",
      "2015-11-01   1500.00000\n",
      "2015-12-01   1081.00000\n",
      "2016-01-01    965.00000\n",
      "2016-02-01    825.00000\n",
      "2016-03-01    725.00000\n",
      "Name: modal_price, dtype: float64\n",
      "Seasonal:\n",
      "  date\n",
      "2015-10-01   0.00000\n",
      "2015-11-01   0.00000\n",
      "2015-12-01   0.00000\n",
      "2016-01-01   0.00000\n",
      "2016-02-01   0.00000\n",
      "2016-03-01   0.00000\n",
      "Name: modal_price, dtype: float64\n",
      "Resid:\n",
      "  date\n",
      "2015-10-01   0.00000\n",
      "2015-11-01   0.00000\n",
      "2015-12-01   0.00000\n",
      "2016-01-01   0.00000\n",
      "2016-02-01   0.00000\n",
      "2016-03-01   0.00000\n",
      "Name: modal_price, dtype: float64\n"
     ]
    },
    {
     "data": {
      "image/png": "[encoded data removed]",
      "text/plain": [
       "<matplotlib.figure.Figure at 0x1de2492e5f8>"
      ]
     },
     "metadata": {
      "image/png": {
       "height": 279,
       "width": 422
      }
     },
     "output_type": "display_data"
    }
   ],
   "source": [
    "seasonal_decomposed_modal_price('Kolhapur_strawberi.csv', 1, 'additive')"
   ]
  },
  {
   "cell_type": "markdown",
   "metadata": {},
   "source": [
    "<b>Conclusion: </b>No seasonal effect can be seen in the commodity(strawberi) of 'Kolhapur'(APMC). And a downward trend can be seen."
   ]
  },
  {
   "cell_type": "markdown",
   "metadata": {},
   "source": [
    "##### Function - 9\n",
    "* <b>modal_price_trend(filename): </b>Return a plot to show the trend with rolling average (2) parameter\n",
    "\n",
    "##### Function - 10\n",
    "* <b>seasonal_decomposed_modal_price(filename, freq, modal_name): </b>Return a plot and details by doing the seasonal decomposition."
   ]
  },
  {
   "cell_type": "markdown",
   "metadata": {},
   "source": [
    "#### 5. Seasonality and Trend in the arrivals_in_qtl:"
   ]
  },
  {
   "cell_type": "code",
   "execution_count": 54,
   "metadata": {
    "collapsed": true
   },
   "outputs": [],
   "source": [
    "def seasonal_decomposed_arrivals_in_qtl(filename: str, freq: int, model_name: str):\n",
    "    apmc_commodity = read_file(filename)\n",
    "    apmc_commodity.set_index('date', inplace = True)\n",
    "    result = seasonal_decompose(apmc_commodity['arrivals_in_qtl'], freq = freq, model = model_name)\n",
    "    print(\"Observed:\\n \", result.observed)\n",
    "    print(\"Trend:\\n \", result.trend)\n",
    "    print(\"Seasonal:\\n \", result.seasonal)\n",
    "    print(\"Resid:\\n \", result.resid)\n",
    "    result.plot()"
   ]
  },
  {
   "cell_type": "code",
   "execution_count": 55,
   "metadata": {},
   "outputs": [
    {
     "name": "stdout",
     "output_type": "stream",
     "text": [
      "Observed:\n",
      "  date\n",
      "2015-10-01      53\n",
      "2015-11-01      24\n",
      "2015-12-01     315\n",
      "2016-01-01    1065\n",
      "2016-02-01     787\n",
      "2016-03-01      21\n",
      "Name: arrivals_in_qtl, dtype: int64\n",
      "Trend:\n",
      "  date\n",
      "2015-10-01     53.00000\n",
      "2015-11-01     24.00000\n",
      "2015-12-01    315.00000\n",
      "2016-01-01   1065.00000\n",
      "2016-02-01    787.00000\n",
      "2016-03-01     21.00000\n",
      "Name: arrivals_in_qtl, dtype: float64\n",
      "Seasonal:\n",
      "  date\n",
      "2015-10-01   0.00000\n",
      "2015-11-01   0.00000\n",
      "2015-12-01   0.00000\n",
      "2016-01-01   0.00000\n",
      "2016-02-01   0.00000\n",
      "2016-03-01   0.00000\n",
      "Name: arrivals_in_qtl, dtype: float64\n",
      "Resid:\n",
      "  date\n",
      "2015-10-01   0.00000\n",
      "2015-11-01   0.00000\n",
      "2015-12-01   0.00000\n",
      "2016-01-01   0.00000\n",
      "2016-02-01   0.00000\n",
      "2016-03-01   0.00000\n",
      "Name: arrivals_in_qtl, dtype: float64\n"
     ]
    },
    {
     "data": {
      "image/png": "[encoded data removed]",
      "text/plain": [
       "<matplotlib.figure.Figure at 0x1de249344a8>"
      ]
     },
     "metadata": {
      "image/png": {
       "height": 279,
       "width": 422
      }
     },
     "output_type": "display_data"
    }
   ],
   "source": [
    "seasonal_decomposed_arrivals_in_qtl('Kolhapur_strawberi.csv', 1, 'additive')"
   ]
  },
  {
   "cell_type": "markdown",
   "metadata": {},
   "source": [
    "<b>Conclusion: </b>No seasonality can be seen but a doenward trend can be seen as time passes."
   ]
  },
  {
   "cell_type": "markdown",
   "metadata": {},
   "source": [
    "##### Function - 11:\n",
    "* <b>seasonal_decomposed_arrivals_in_qtl(filename, freq, model_name): </b>Return importand information and plot to visualise trend and seasonality of a commodity."
   ]
  },
  {
   "cell_type": "markdown",
   "metadata": {},
   "source": [
    "####  6. Overview of the created functions:"
   ]
  },
  {
   "cell_type": "markdown",
   "metadata": {},
   "source": [
    "| Functions | Detail |\n",
    "| --------- | ------ |\n",
    "| <b>read_file(filename: str)</b> | Read the input file and return data in form of dataframe |\n",
    "| <b>diff_price_zero(filename: str)</b> | Read the filename and retun details about samples having 'diff_price' equals to zero |\n",
    "| <b>uniq_dist(filename: str)</b> | Read the filename and return the list of unique district names |\n",
    "| <b>min_price_zero(filename: str)</b> | Read the filename and return details about the samples having minimum price equals to zero |\n",
    "| <b>low_min_price(filename: str)</b> | Read the filename and return the details about the time when price of the comodity is least |\n",
    "| <b>high_max_price(filename: str)</b> | Read the filename and returnthe details about the time when price of the commodity is most |\n",
    "| <b>yearly_max_values(filename: str)</b> | Read the filename and return the dictionay shows max price of the commodity each year |\n",
    "| <b>seasonal_max_values(filename: str)</b> | Read the filename and return a dictionary shows max price of the commodity each season |\n",
    "| <b>modal_price_trend(filename: str)</b> | Read the filename and return the trend in modal price of the commodity by rolling avery of two months of window size |\n",
    "| <b>seasonal_decomposed_modal_price(filename: str, freq: int, modal_name: str)</b> | Read the filename, frequency_interval, and modal_type(additive/multiplicative) and return the necessary details as well as plot about the trend, seasonality and the residual of a particular commodity modal_price |\n",
    "| <b>seasonal_decomposed_arrivals_in_qtl(filename: str, freq: int, model_name: str)</b> | Read the filename, frequency_interval, and modal_type(additive/multiplicative) and return the necessary details as well as plot about the trend, seasonality and the residual of a particular commodity arrival_in_qtl |"
   ]
  },
  {
   "cell_type": "code",
   "execution_count": null,
   "metadata": {
    "collapsed": true
   },
   "outputs": [],
   "source": []
  }
 ],
 "metadata": {
  "kernelspec": {
   "display_name": "Python 3",
   "language": "python",
   "name": "python3"
  },
  "language_info": {
   "codemirror_mode": {
    "name": "ipython",
    "version": 3
   },
   "file_extension": ".py",
   "mimetype": "text/x-python",
   "name": "python",
   "nbconvert_exporter": "python",
   "pygments_lexer": "ipython3",
   "version": "3.6.3"
  }
 },
 "nbformat": 4,
 "nbformat_minor": 2
}
